{
 "cells": [
  {
   "cell_type": "markdown",
   "metadata": {},
   "source": [
    "# Taller: Operaciones CRUD\n",
    "\n",
    "## Objetivos\n",
    "1. Comprender cómo conectar una aplicación Java a una base de datos utilizando JDBC.\n",
    "2. Realizar operaciones CRUD (Crear, Leer, Actualizar, Eliminar) desde Java.\n",
    "3. Conocer las diferencias entre los métodos `executeUpdate()`, `execute()`, y `prepareStatement()`.\n",
    "\n",
    "## Requisitos Previos\n",
    "- Conocimiento básico de SQL.\n",
    "- Java SDK y MySQL (o cualquier gestor de bases de datos relacional).\n",
    "\n",
    "## 1. Introducción a JDBC\n",
    "\n",
    "### ¿Qué es JDBC?\n",
    "\n",
    "JDBC es una API que permite a las aplicaciones Java interactuar con bases de datos relacionales. A través de JDBC, podemos ejecutar consultas SQL directamente desde código Java para manipular datos almacenados en bases de datos.\n",
    "\n",
    "### Componentes Clave:\n",
    "- **DriverManager**: Gestiona la conexión a la base de datos.\n",
    "- **Connection**: Representa una conexión activa a la base de datos.\n",
    "- **Statement**: Se utiliza para ejecutar consultas SQL.\n",
    "- **ResultSet**: Almacena el resultado de una consulta SQL.\n",
    "- **PreparedStatement**: Una subclase de `Statement` que permite consultas precompiladas y más seguras.\n",
    "\n",
    "### Diferencias entre `executeUpdate()`, `execute()`, y `prepareStatement()`\n",
    "\n",
    "- **`executeUpdate()`**: Este método se utiliza para ejecutar consultas que modifican la base de datos, como `INSERT`, `UPDATE` o `DELETE`. Retorna un entero que indica el número de filas afectadas por la consulta.\n",
    "\n",
    "   ```java\n",
    "   int rowsAffected = statement.executeUpdate(\"UPDATE users SET age = 30 WHERE id = 1\");\n",
    "   ```\n",
    "\n",
    "- **`execute()`**: Este método se utiliza para ejecutar cualquier tipo de consulta SQL. Puede devolver diferentes tipos de resultados, dependiendo de la consulta (puede ser un `ResultSet` o un entero que indica cuántas filas fueron afectadas). Se usa cuando no sabes de antemano si tu consulta es una `SELECT` o una operación que modifica la base de datos.\n",
    "\n",
    "   ```java\n",
    "   boolean hasResultSet = statement.execute(\"SELECT * FROM users\");\n",
    "   ```\n",
    "\n",
    "   Retorna `true` si la consulta genera un `ResultSet`, o `false` si fue una operación como `INSERT`, `UPDATE` o `DELETE`.\n",
    "\n",
    "- **`prepareStatement()`**: Se utiliza para crear consultas SQL precompiladas y parametrizadas, que permiten mayor seguridad (evitando inyecciones SQL) y optimización. Las consultas precompiladas son más eficientes en consultas repetitivas.\n",
    "\n",
    "   ```java\n",
    "   PreparedStatement pstmt = connection.prepareStatement(\"\"\"INSERT INTO users (name, age) \n",
    "                                                            VALUES (?, ?)\"\"\");\n",
    "   pstmt.setString(1, \"Juan\");\n",
    "   pstmt.setInt(2, 25);\n",
    "   pstmt.executeUpdate();\n",
    "   ```\n"
   ]
  },
  {
   "cell_type": "markdown",
   "metadata": {},
   "source": [
    "## 2. Operaciones CRUD\n",
    "\n",
    "Para ejecutar los siguiente códigos deben primero agrega la clase [DatabaseConnection](DatabaseConnection)."
   ]
  },
  {
   "cell_type": "markdown",
   "metadata": {},
   "source": [
    "(DatabaseConnection)=\n",
    "#### a) Conexión a la Base de Datos\n",
    "\n",
    "Antes de realizar cualquier operación, primero debemos conectarnos a la base de datos. El siguiente código Java establece la conexión usando JDBC."
   ]
  },
  {
   "cell_type": "code",
   "execution_count": 1,
   "metadata": {
    "vscode": {
     "languageId": "java"
    }
   },
   "outputs": [],
   "source": [
    "%maven com.mysql:mysql-connector-j:9.1.0"
   ]
  },
  {
   "cell_type": "code",
   "execution_count": 3,
   "metadata": {
    "vscode": {
     "languageId": "java"
    }
   },
   "outputs": [],
   "source": [
    "import java.sql.Connection;\n",
    "import java.sql.DriverManager;\n",
    "import java.sql.SQLException;\n",
    "\n",
    "public class DatabaseConnection {\n",
    "    private static final String URL = \"jdbc:mysql://localhost:3306/Universidad\";\n",
    "    private static final String USER = \"dba\";            // puede ser root\n",
    "    private static final String PASSWORD = \"$123456789\"; //  contraseña del usuario\n",
    "\n",
    "    public static Connection getConnection() throws SQLException {\n",
    "        return DriverManager.getConnection(URL, USER, PASSWORD);\n",
    "    }\n",
    "}"
   ]
  },
  {
   "cell_type": "code",
   "execution_count": 4,
   "metadata": {
    "vscode": {
     "languageId": "java"
    }
   },
   "outputs": [
    {
     "data": {
      "text/plain": [
       "com.mysql.cj.jdbc.ConnectionImpl@61834294"
      ]
     },
     "execution_count": 4,
     "metadata": {},
     "output_type": "execute_result"
    }
   ],
   "source": [
    "new DatabaseConnection().getConnection();"
   ]
  },
  {
   "cell_type": "markdown",
   "metadata": {},
   "source": [
    "#### b) Crear y poblar la tabla"
   ]
  },
  {
   "cell_type": "code",
   "execution_count": null,
   "metadata": {
    "vscode": {
     "languageId": "java"
    }
   },
   "outputs": [],
   "source": [
    "import java.sql.*;\n",
    "\n",
    "//Creación de la tabla\n",
    "public class CreateTable {\n",
    "    public static void Create() {\n",
    "        String query = \"\"\"\n",
    "            CREATE TABLE IF NOT EXISTS usuarios (\n",
    "                id INT AUTO_INCREMENT PRIMARY KEY,\n",
    "                nombre VARCHAR(100) NOT NULL,\n",
    "                edad int NOT NULL,\n",
    "                fecha_nacimiento DATE NOT NULL\n",
    "            );\n",
    "            \"\"\";;\n",
    "        try (Connection connection = DatabaseConnection.getConnection();\n",
    "             Statement stmt = connection.createStatement()) {\n",
    "          \n",
    "              // Usando el método executeUpdate\n",
    "              int result = stmt.executeUpdate(query);\n",
    "              System.out.printf(\"executeUpdate: Se han afectado %s filas\",result);\n",
    "\n",
    "              // Usando el método execute\n",
    "              boolean result1 = stmt.execute(query);\n",
    "              System.out.printf(\"%nexecute: La tabla fue creada correctamente \",result1);\n",
    "            \n",
    "        } catch (SQLException e) {\n",
    "            e.printStackTrace();\n",
    "        }\n",
    "    }\n",
    "\n",
    "    public static void main(String[] args) {\n",
    "        Create();\n",
    "    }\n",
    "  }"
   ]
  },
  {
   "cell_type": "code",
   "execution_count": 10,
   "metadata": {
    "vscode": {
     "languageId": "java"
    }
   },
   "outputs": [
    {
     "name": "stdout",
     "output_type": "stream",
     "text": [
      "executeUpdate: Se han afectado 0 filas\n",
      "execute: La tabla fue creada correctamente "
     ]
    }
   ],
   "source": [
    "new CreateTable().Create()"
   ]
  },
  {
   "cell_type": "code",
   "execution_count": null,
   "metadata": {
    "vscode": {
     "languageId": "java"
    }
   },
   "outputs": [],
   "source": [
    "//Poblar la tabla\n",
    "import java.sql.*;\n",
    "\n",
    "public class PoblateTable {\n",
    "\n",
    "  public static void Poblate(){\n",
    "    String query = \"\"\"\n",
    "        INSERT INTO usuarios (nombre, edad, fecha_nacimiento) VALUES \n",
    "                            ('Jhon Wayne', 35, \"2000-12-18\"),\n",
    "                            ('Francisco Gomez', '28', \"1990-05-32\");\n",
    "        \"\"\";\n",
    "    try(Connection connection = DatabaseConnection.getConnection();\n",
    "        Statement stmt = connection.createStatement();) {\n",
    "          int result = stmt.executeUpdate(query);\n",
    "          System.out.printf(\"%d rows where updated.\", result);\n",
    "    } catch (Exception e) {\n",
    "      // TODO: handle exception\n",
    "    }\n",
    "  }\n",
    "\n",
    "  public static void main(String[] args) {\n",
    "    Poblate();\n",
    "  }\n",
    "}"
   ]
  },
  {
   "cell_type": "markdown",
   "metadata": {},
   "source": [
    "### a) Insertar Registros (`INSERT`)"
   ]
  },
  {
   "cell_type": "code",
   "execution_count": 20,
   "metadata": {
    "vscode": {
     "languageId": "java"
    }
   },
   "outputs": [],
   "source": [
    "import java.sql.Connection;\n",
    "import java.sql.PreparedStatement;\n",
    "import java.sql.SQLException;\n",
    "\n",
    "public class InsertRecord {\n",
    "    public static void insertRecord(String name, int age, String fecha_nacimiento) {\n",
    "        String query = \"INSERT INTO usuarios (nombre, edad, fecha_nacimiento) VALUES (?, ?, ?)\";\n",
    "        try (Connection connection = DatabaseConnection.getConnection();\n",
    "             PreparedStatement preparedStatement = connection.prepareStatement(query)) {\n",
    "\n",
    "            preparedStatement.setString(1, name);\n",
    "            preparedStatement.setInt(2, age);\n",
    "            preparedStatement.setString(3, fecha_nacimiento);\n",
    "\n",
    "            int rowsInserted = preparedStatement.executeUpdate();\n",
    "            System.out.println(\"Registros insertados: \" + rowsInserted);\n",
    "        } catch (SQLException e) {\n",
    "            e.printStackTrace();\n",
    "        }\n",
    "    }\n",
    "\n",
    "    public static void main(String[] args) {\n",
    "        insertRecord(\"Juan\", 25, \"2021-10-05\");\n",
    "    }\n",
    "}"
   ]
  },
  {
   "cell_type": "code",
   "execution_count": 72,
   "metadata": {
    "vscode": {
     "languageId": "java"
    }
   },
   "outputs": [
    {
     "name": "stdout",
     "output_type": "stream",
     "text": [
      "Registros insertados: 1\n"
     ]
    }
   ],
   "source": [
    "new InsertRecord().insertRecord(\"Juan\", 25, \"2021-10-05\");"
   ]
  },
  {
   "cell_type": "markdown",
   "metadata": {},
   "source": [
    "### b) Consultar Registros (`SELECT`)"
   ]
  },
  {
   "cell_type": "code",
   "execution_count": 105,
   "metadata": {
    "vscode": {
     "languageId": "java"
    }
   },
   "outputs": [],
   "source": [
    "import java.sql.Connection;\n",
    "import java.sql.PreparedStatement;\n",
    "import java.sql.ResultSet;\n",
    "import java.sql.SQLException;\n",
    "\n",
    "public class SelectRecords {\n",
    "    public static void selectAllRecords() {\n",
    "        String query = \"SELECT * FROM usuarios\";\n",
    "        try (Connection connection = DatabaseConnection.getConnection();\n",
    "             PreparedStatement preparedStatement = connection.prepareStatement(query)) {\n",
    "\n",
    "            ResultSet resultSet = preparedStatement.executeQuery();\n",
    "            \n",
    "            System.out.printf(\"%-7s%-15s%-10s%-22s%n\",\"ID\", \"Nombre\", \"Edad\", \"Fecha de Nacimiento\");\n",
    "            while (resultSet.next()) {\n",
    "                int id = resultSet.getInt(\"id\");\n",
    "                String nombre = resultSet.getString(\"nombre\");\n",
    "                int edad = resultSet.getInt(\"edad\");\n",
    "                String fecha_nacimiento = resultSet.getString(\"fecha_nacimiento\");\n",
    "                System.out.printf(\"%-7d%-15s%-10d%-22s%n\",  id, nombre, edad, fecha_nacimiento);\n",
    "            }\n",
    "        } catch (SQLException e) {\n",
    "            e.printStackTrace();\n",
    "        }\n",
    "    }\n",
    "\n",
    "    public static void main(String[] args) {\n",
    "        selectAllRecords();\n",
    "    }\n",
    "}"
   ]
  },
  {
   "cell_type": "code",
   "execution_count": 106,
   "metadata": {
    "vscode": {
     "languageId": "java"
    }
   },
   "outputs": [
    {
     "name": "stdout",
     "output_type": "stream",
     "text": [
      "ID     Nombre         Edad      Fecha de Nacimiento   \n",
      "1      Sebastian1     30        2001-05-12            \n",
      "2      Juan           25        2021-10-05            \n"
     ]
    }
   ],
   "source": [
    "new SelectRecords().main(null);"
   ]
  },
  {
   "cell_type": "markdown",
   "metadata": {},
   "source": [
    "### c) Actualizar Registros (`UPDATE`)"
   ]
  },
  {
   "cell_type": "code",
   "execution_count": null,
   "metadata": {
    "vscode": {
     "languageId": "java"
    }
   },
   "outputs": [],
   "source": [
    "import java.sql.Connection;\n",
    "import java.sql.PreparedStatement;\n",
    "import java.sql.SQLException;\n",
    "\n",
    "public class UpdateRecord {\n",
    "    public static void updateRecord(int id, String newName, int newAge, String fecha_nacimiento) {\n",
    "        // El comando WHERE id=? filtra los elementos por id, si se quiere por\n",
    "        // otro campo es cambiar id por el de interés. No es necesario pasar todos los campos\n",
    "        String query = \"UPDATE usuarios SET nombre=?, edad=?, fecha_nacimiento=? WHERE id=?\";\n",
    "        try (Connection connection = DatabaseConnection.getConnection();\n",
    "             PreparedStatement preparedStatement = connection.prepareStatement(query)) {\n",
    "\n",
    "            preparedStatement.setString(1, newName);\n",
    "            preparedStatement.setInt(2, newAge);\n",
    "            preparedStatement.setString(3, fecha_nacimiento);\n",
    "            preparedStatement.setInt(4, id);\n",
    "\n",
    "            int rowsUpdated = preparedStatement.executeUpdate();\n",
    "            System.out.println(\"Registros actualizados: \" + rowsUpdated);\n",
    "        } catch (SQLException e) {\n",
    "            e.printStackTrace();\n",
    "        }\n",
    "    }\n",
    "\n",
    "    public static void main(String[] args) {\n",
    "        updateRecord(1, \"Carlos\", 30, \"2001-02-24\");\n",
    "    }\n",
    "}"
   ]
  },
  {
   "cell_type": "code",
   "execution_count": 115,
   "metadata": {
    "vscode": {
     "languageId": "java"
    }
   },
   "outputs": [
    {
     "name": "stdout",
     "output_type": "stream",
     "text": [
      "-- Antes de actualizar el registro\n",
      "ID     Nombre         Edad      Fecha de Nacimiento   \n",
      "1      Se             30        2001-05-12            \n",
      "\n",
      "-- Después de actualizar el registro\n",
      "Registros actualizados: 1\n",
      "ID     Nombre         Edad      Fecha de Nacimiento   \n",
      "1      Se             30        2001-05-12            \n"
     ]
    }
   ],
   "source": [
    "System.out.println(\"-- Antes de actualizar el registro\");\n",
    "new SelectRecords().main(null);\n",
    "\n",
    "System.out.println(\"\\n-- Después de actualizar el registro\");\n",
    "new UpdateRecord().updateRecord(1, \"Se\", 30, \"2001-05-12\");\n",
    "new SelectRecords().main(null);"
   ]
  },
  {
   "cell_type": "markdown",
   "metadata": {},
   "source": [
    "### d) Eliminar Registros (`DELETE`)"
   ]
  },
  {
   "cell_type": "code",
   "execution_count": 111,
   "metadata": {
    "vscode": {
     "languageId": "java"
    }
   },
   "outputs": [],
   "source": [
    "import java.sql.Connection;\n",
    "import java.sql.PreparedStatement;\n",
    "import java.sql.SQLException;\n",
    "\n",
    "public class DeleteRecord {\n",
    "    public static void deleteRecord(int id) {\n",
    "        String query = \"DELETE FROM usuarios WHERE id = ?\";\n",
    "        try (Connection connection = DatabaseConnection.getConnection();\n",
    "             PreparedStatement preparedStatement = connection.prepareStatement(query)) {\n",
    "\n",
    "            preparedStatement.setInt(1, id);\n",
    "\n",
    "            int rowsDeleted = preparedStatement.executeUpdate();\n",
    "            System.out.println(\"Registros eliminados: \" + rowsDeleted);\n",
    "        } catch (SQLException e) {\n",
    "            e.printStackTrace();\n",
    "        }\n",
    "    }\n",
    "\n",
    "    public static void main(String[] args) {\n",
    "        deleteRecord(1);\n",
    "    }\n",
    "}"
   ]
  },
  {
   "cell_type": "code",
   "execution_count": 116,
   "metadata": {
    "vscode": {
     "languageId": "java"
    }
   },
   "outputs": [
    {
     "name": "stdout",
     "output_type": "stream",
     "text": [
      "-- Antes de eliminar el registro\n"
     ]
    },
    {
     "name": "stdout",
     "output_type": "stream",
     "text": [
      "ID     Nombre         Edad      Fecha de Nacimiento   \n",
      "1      Se             30        2001-05-12            \n",
      "\n",
      "-- Después de eliminar el registro\n",
      "Registros eliminados: 0\n",
      "ID     Nombre         Edad      Fecha de Nacimiento   \n",
      "1      Se             30        2001-05-12            \n"
     ]
    }
   ],
   "source": [
    "System.out.println(\"-- Antes de eliminar el registro\");\n",
    "new SelectRecords().main(null);\n",
    "\n",
    "System.out.println();\n",
    "System.out.println(\"-- Después de eliminar el registro\");\n",
    "new DeleteRecord().deleteRecord(2);\n",
    "new SelectRecords().main(null);\n"
   ]
  },
  {
   "cell_type": "markdown",
   "metadata": {},
   "source": [
    "\n",
    "## 3. Mejores Prácticas\n",
    "\n",
    "1. **Uso de `PreparedStatement`**: Siempre usa `PreparedStatement` en lugar de `Statement` para evitar inyecciones SQL, especialmente cuando trabajas con datos ingresados por el usuario.\n",
    "   \n",
    "2. **Cerrar Conexiones y Recursos**: Usa bloques `try-with-resources` para asegurarte de que los recursos como `Connection`, `PreparedStatement` y `ResultSet` se cierren automáticamente, incluso si ocurre una excepción.\n",
    "\n",
    "## Conclusión del Taller:\n",
    "Este taller introduce a los estudiantes en el uso de JDBC para realizar operaciones CRUD. Aprendieron a conectar una base de datos MySQL a Java, realizar inserciones, consultas, actualizaciones y eliminaciones, y cómo usar métodos como `executeUpdate()`, `execute()`, y `prepareStatement()` de manera eficiente y segura.\n",
    "\n",
    "\n",
    "## Ejercicio Práctico: Base de Datos de Licores Colombianos\n",
    "\n",
    "### Objetivo:\n",
    "Crear una base de datos para almacenar información de licores colombianos y realizar operaciones CRUD utilizando JDBC desde una aplicación Java.\n",
    "\n",
    "### 1. Creación de la Base de Datos y Tablas en MySQL\n",
    "\n",
    "Primero, debes crear una base de datos llamada `licores_colombianos` con una tabla llamada `licores`. Cada licor debe tener un ID, nombre, tipo (ron, aguardiente, cerveza, etc.), grado de alcohol, y precio.\n",
    "\n",
    "#### SQL para la creación de la base de datos:\n",
    "\n",
    "```sql\n",
    "-- Crear la base de datos\n",
    "CREATE DATABASE licores_colombianos;\n",
    "\n",
    "-- Usar la base de datos creada\n",
    "USE licores_colombianos;\n",
    "\n",
    "-- Crear la tabla 'licores'\n",
    "CREATE TABLE licores (\n",
    "    id INT AUTO_INCREMENT PRIMARY KEY,\n",
    "    nombre VARCHAR(100) NOT NULL,\n",
    "    tipo VARCHAR(50) NOT NULL,\n",
    "    grado_alcohol FLOAT NOT NULL,\n",
    "    precio DECIMAL(10, 2) NOT NULL\n",
    ");\n",
    "```\n",
    "\n",
    "#### Explicación del SQL:\n",
    "- **Base de datos `licores_colombianos`**: Es la base de datos donde almacenaremos toda la información de los licores.\n",
    "- **Tabla `licores`**:\n",
    "  - `id`: Es el identificador único de cada licor, que se genera automáticamente con cada inserción.\n",
    "  - `nombre`: Almacena el nombre del licor (ejemplo: \"Aguardiente Antioqueño\").\n",
    "  - `tipo`: Almacena el tipo de licor (ejemplo: \"Aguardiente\", \"Ron\").\n",
    "  - `grado_alcohol`: Almacena el porcentaje de alcohol por volumen (ejemplo: 29.5%).\n",
    "  - `precio`: Almacena el precio del licor en la moneda local (COP).\n",
    "\n",
    "\n",
    "### 2. Insertar Datos de Ejemplo\n",
    "\n",
    "Insertamos algunos datos iniciales en la tabla `licores` para comenzar a trabajar.\n",
    "\n",
    "```sql\n",
    "-- Insertar algunos registros en la tabla 'licores'\n",
    "INSERT INTO licores (nombre, tipo, grado_alcohol, precio) \n",
    "VALUES ('Aguardiente Antioqueño', 'Aguardiente', 29.5, 25000),\n",
    "       ('Ron Medellín', 'Ron', 37.5, 55000),\n",
    "       ('Club Colombia', 'Cerveza', 4.7, 3000),\n",
    "       ('Old Parr', 'Whisky', 40.0, 120000),\n",
    "       ('Tequila 1800', 'Tequila', 38.0, 75000);\n",
    "```"
   ]
  },
  {
   "cell_type": "markdown",
   "metadata": {},
   "source": [
    "### 3. Operaciones CRUD en Java\n",
    "\n"
   ]
  },
  {
   "cell_type": "code",
   "execution_count": 1,
   "metadata": {
    "vscode": {
     "languageId": "java"
    }
   },
   "outputs": [],
   "source": [
    "%maven com.mysql:mysql-connector-j:9.1.0"
   ]
  },
  {
   "cell_type": "code",
   "execution_count": 2,
   "metadata": {
    "vscode": {
     "languageId": "java"
    }
   },
   "outputs": [
    {
     "data": {
      "text/plain": [
       "com.mysql.cj.jdbc.ConnectionImpl@43102eaf"
      ]
     },
     "execution_count": 2,
     "metadata": {},
     "output_type": "execute_result"
    }
   ],
   "source": [
    "import java.sql.Connection;\n",
    "import java.sql.DriverManager;\n",
    "import java.sql.SQLException;\n",
    "\n",
    "public class DatabaseConnection {\n",
    "    private static final String URL = \"jdbc:mysql://localhost:3306/licores_colombianos\";\n",
    "    private static final String USER = \"dba\"; // Cambia 'root' por tu usuario de MySQL\n",
    "    private static final String PASSWORD = \"$123456789\"; // Cambia 'yourpassword' por tu contraseña de MySQL\n",
    "\n",
    "    public static Connection getConnection() throws SQLException {\n",
    "        return DriverManager.getConnection(URL, USER, PASSWORD);\n",
    "    }\n",
    "}\n",
    "\n",
    "new DatabaseConnection().getConnection();"
   ]
  },
  {
   "cell_type": "markdown",
   "metadata": {},
   "source": [
    "#### b) Crear y poblar la tabla"
   ]
  },
  {
   "cell_type": "code",
   "execution_count": 3,
   "metadata": {
    "vscode": {
     "languageId": "java"
    }
   },
   "outputs": [],
   "source": [
    "import java.sql.*;\n",
    "\n",
    "//Creación de la tabla\n",
    "public class CreateTable {\n",
    "    public static void Create() {\n",
    "        String query = \"\"\"\n",
    "            CREATE TABLE licores (\n",
    "                id INT AUTO_INCREMENT PRIMARY KEY,\n",
    "                nombre VARCHAR(100) NOT NULL,\n",
    "                tipo VARCHAR(50) NOT NULL,\n",
    "                grado_alcohol FLOAT NOT NULL,\n",
    "                precio DECIMAL(10, 2) NOT NULL\n",
    "            );\n",
    "            \"\"\";;\n",
    "        try (Connection connection = DatabaseConnection.getConnection();\n",
    "             Statement stmt = connection.createStatement()) {\n",
    "          \n",
    "              // Usando el método executeUpdate\n",
    "              int result = stmt.executeUpdate(query);\n",
    "              System.out.println(result);\n",
    "\n",
    "              // Usando el método execute\n",
    "              boolean result1 = stmt.execute(query);\n",
    "              System.out.println(result1);\n",
    "            \n",
    "        } catch (SQLException e) {\n",
    "            e.printStackTrace();\n",
    "        }\n",
    "    }\n",
    "\n",
    "    public static void main(String[] args) {\n",
    "        Create();\n",
    "    }\n",
    "  }"
   ]
  },
  {
   "cell_type": "code",
   "execution_count": 4,
   "metadata": {
    "vscode": {
     "languageId": "java"
    }
   },
   "outputs": [],
   "source": [
    "//Poblar la tabla\n",
    "import java.sql.*;\n",
    "\n",
    "public class PoblateTable {\n",
    "\n",
    "  public static void Poblate(){\n",
    "    String query = \"\"\"\n",
    "        INSERT INTO licores (nombre, tipo, grado_alcohol, precio) VALUES \n",
    "                            ('Aguardiente Antioqueño', 'Aguardiente', 29.5, 25000),\n",
    "                            ('Ron Medellín', 'Ron', 37.5, 55000),\n",
    "                            ('Club Colombia', 'Cerveza', 4.7, 3000),\n",
    "                            ('Old Parr', 'Whisky', 40.0, 120000),\n",
    "                            ('Tequila 1800', 'Tequila', 38.0, 75000);\n",
    "        \"\"\";\n",
    "    try(Connection connection = DatabaseConnection.getConnection();\n",
    "        Statement stmt = connection.createStatement();) {\n",
    "          int result = stmt.executeUpdate(query);\n",
    "          System.out.printf(\"%d rows where updated.\", result);\n",
    "    } catch (Exception e) {\n",
    "      // TODO: handle exception\n",
    "    }\n",
    "  }\n",
    "\n",
    "  public static void main(String[] args) {\n",
    "    Poblate();\n",
    "  }\n",
    "}"
   ]
  },
  {
   "cell_type": "markdown",
   "metadata": {},
   "source": [
    "#### c) Insertar un nuevo licor\n",
    "\n",
    "Este método permite agregar un nuevo licor a la tabla `licores`."
   ]
  },
  {
   "cell_type": "code",
   "execution_count": 5,
   "metadata": {
    "vscode": {
     "languageId": "java"
    }
   },
   "outputs": [],
   "source": [
    "import java.sql.Connection;\n",
    "import java.sql.PreparedStatement;\n",
    "import java.sql.SQLException;\n",
    "\n",
    "public class InsertLicor {\n",
    "    public static void insertLicor(String nombre, String tipo, float gradoAlcohol, double precio) {\n",
    "        String query = \"INSERT INTO licores (nombre, tipo, grado_alcohol, precio) VALUES (?, ?, ?, ?)\";\n",
    "        try (Connection connection = DatabaseConnection.getConnection();\n",
    "             PreparedStatement preparedStatement = connection.prepareStatement(query)) {\n",
    "\n",
    "            preparedStatement.setString(1, nombre);\n",
    "            preparedStatement.setString(2, tipo);\n",
    "            preparedStatement.setFloat(3, gradoAlcohol);\n",
    "            preparedStatement.setDouble(4, precio);\n",
    "\n",
    "            int rowsInserted = preparedStatement.executeUpdate();\n",
    "            System.out.println(\"Licor insertado correctamente: \" + rowsInserted);\n",
    "        } catch (SQLException e) {\n",
    "            e.printStackTrace();\n",
    "        }\n",
    "    }\n",
    "\n",
    "    public static void main(String[] args) {\n",
    "        insertLicor(\"Aguardiente Cristal\", \"Aguardiente\", 29.0f, 24000);\n",
    "    }\n",
    "}"
   ]
  },
  {
   "cell_type": "markdown",
   "metadata": {},
   "source": [
    "#### d) Consultar los licores\n",
    "\n",
    "Este método consulta y muestra todos los licores almacenados en la base de datos.\n"
   ]
  },
  {
   "cell_type": "code",
   "execution_count": 6,
   "metadata": {
    "vscode": {
     "languageId": "java"
    }
   },
   "outputs": [],
   "source": [
    "import java.sql.Connection;\n",
    "import java.sql.PreparedStatement;\n",
    "import java.sql.ResultSet;\n",
    "import java.sql.SQLException;\n",
    "\n",
    "public class SelectLicores {\n",
    "    public static void selectAllLicores() {\n",
    "        String query = \"SELECT * FROM licores\";\n",
    "        try (Connection connection = DatabaseConnection.getConnection();\n",
    "             PreparedStatement preparedStatement = connection.prepareStatement(query)) {\n",
    "\n",
    "            ResultSet resultSet = preparedStatement.executeQuery();\n",
    "\n",
    "            while (resultSet.next()) {\n",
    "                int id = resultSet.getInt(\"id\");\n",
    "                String nombre = resultSet.getString(\"nombre\");\n",
    "                String tipo = resultSet.getString(\"tipo\");\n",
    "                float gradoAlcohol = resultSet.getFloat(\"grado_alcohol\");\n",
    "                double precio = resultSet.getDouble(\"precio\");\n",
    "\n",
    "                System.out.println(\"ID: \" + id + \", Nombre: \" + nombre + \", Tipo: \" + tipo + \n",
    "                                   \", Grado de Alcohol: \" + gradoAlcohol + \", Precio: \" + precio);\n",
    "            }\n",
    "        } catch (SQLException e) {\n",
    "            e.printStackTrace();\n",
    "        }\n",
    "    }\n",
    "\n",
    "    public static void main(String[] args) {\n",
    "        selectAllLicores();\n",
    "    }\n",
    "}"
   ]
  },
  {
   "cell_type": "markdown",
   "metadata": {},
   "source": [
    "#### e) Actualizar información de un licor\n",
    "\n",
    "El siguiente código actualiza el precio de un licor específico."
   ]
  },
  {
   "cell_type": "code",
   "execution_count": 7,
   "metadata": {
    "vscode": {
     "languageId": "java"
    }
   },
   "outputs": [],
   "source": [
    "import java.sql.Connection;\n",
    "import java.sql.PreparedStatement;\n",
    "import java.sql.SQLException;\n",
    "\n",
    "public class UpdateLicor {\n",
    "    public static void updateLicorPrice(int id, double nuevoPrecio) {\n",
    "        String query = \"UPDATE licores SET precio = ? WHERE id = ?\";\n",
    "        try (Connection connection = DatabaseConnection.getConnection();\n",
    "             PreparedStatement preparedStatement = connection.prepareStatement(query)) {\n",
    "\n",
    "            preparedStatement.setDouble(1, nuevoPrecio);\n",
    "            preparedStatement.setInt(2, id);\n",
    "\n",
    "            int rowsUpdated = preparedStatement.executeUpdate();\n",
    "            System.out.println(\"Licor actualizado correctamente: \" + rowsUpdated);\n",
    "        } catch (SQLException e) {\n",
    "            e.printStackTrace();\n",
    "        }\n",
    "    }\n",
    "\n",
    "    public static void main(String[] args) {\n",
    "        updateLicorPrice(1, 26000);  // Cambia el precio del licor con id=1\n",
    "    }\n",
    "}"
   ]
  },
  {
   "cell_type": "markdown",
   "metadata": {},
   "source": [
    "#### f) Eliminar un licor\n",
    "\n",
    "Este código elimina un registro de la tabla `licores` por su ID."
   ]
  },
  {
   "cell_type": "code",
   "execution_count": 8,
   "metadata": {
    "vscode": {
     "languageId": "java"
    }
   },
   "outputs": [],
   "source": [
    "import java.sql.Connection;\n",
    "import java.sql.PreparedStatement;\n",
    "import java.sql.SQLException;\n",
    "\n",
    "public class DeleteLicor {\n",
    "    public static void deleteLicor(int id) {\n",
    "        String query = \"DELETE FROM licores WHERE id = ?\";\n",
    "        try (Connection connection = DatabaseConnection.getConnection();\n",
    "             PreparedStatement preparedStatement = connection.prepareStatement(query)) {\n",
    "\n",
    "            preparedStatement.setInt(1, id);\n",
    "\n",
    "            int rowsDeleted = preparedStatement.executeUpdate();\n",
    "            System.out.println(\"Licor eliminado correctamente: \" + rowsDeleted);\n",
    "        } catch (SQLException e) {\n",
    "            e.printStackTrace();\n",
    "        }\n",
    "    }\n",
    "\n",
    "    public static void main(String[] args) {\n",
    "        deleteLicor(5);  // Elimina el licor con id=5\n",
    "    }\n",
    "}"
   ]
  },
  {
   "cell_type": "markdown",
   "metadata": {},
   "source": [
    "## Ejercicio\n",
    "\n",
    ":::{admonition} Taller\n",
    "Realizar todo el taller en un notebook de java o un proyecto para un tema de intereses: anime, peliculas, carros, motos, etc. La solución debe mostrar como se pueden realizar las operaciones de crear, leer, actualizar y eliminar, también conocidas como operaciones CRUD.\n",
    ":::"
   ]
  }
 ],
 "metadata": {
  "kernelspec": {
   "display_name": "Java",
   "language": "java",
   "name": "java"
  },
  "language_info": {
   "codemirror_mode": "java",
   "file_extension": ".jshell",
   "mimetype": "text/x-java-source",
   "name": "Java",
   "pygments_lexer": "java",
   "version": "23.0.1+11-39"
  }
 },
 "nbformat": 4,
 "nbformat_minor": 2
}
