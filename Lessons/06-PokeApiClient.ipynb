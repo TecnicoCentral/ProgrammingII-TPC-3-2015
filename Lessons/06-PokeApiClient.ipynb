{
 "cells": [
  {
   "cell_type": "markdown",
   "metadata": {},
   "source": [
    "# PokeAPI\n",
    "\n",
    "Aquí te presento un ejemplo de código en Java que realiza una consulta al API de [PokeAPI](https://pokeapi.co/). Usaremos `HttpURLConnection` para hacer la solicitud HTTP GET y la biblioteca `org.json` para procesar la respuesta en formato JSON.\n",
    "\n",
    "## Dependencias Maven\n",
    "Para manejar las respuestas JSON, utilizaremos la biblioteca `org.json`. Puedes agregarla en tu proyecto de Maven de la siguiente manera, si es que usas Maven:\n",
    "\n",
    "```xml\n",
    "<dependency>\n",
    "    <groupId>org.json</groupId>\n",
    "    <artifactId>json</artifactId>\n",
    "    <version>20210307</version>\n",
    "</dependency>\n",
    "```\n",
    "\n",
    "## Dependencias de Maven"
   ]
  },
  {
   "cell_type": "code",
   "execution_count": 2,
   "metadata": {},
   "outputs": [],
   "source": [
    "%%loadFromPOM\n",
    "<!-- https://mvnrepository.com/artifact/org.json/json -->\n",
    "<dependency>\n",
    "    <groupId>org.json</groupId>\n",
    "    <artifactId>json</artifactId>\n",
    "    <version>20240303</version>\n",
    "</dependency>"
   ]
  },
  {
   "cell_type": "markdown",
   "metadata": {},
   "source": [
    "## Código en Java"
   ]
  },
  {
   "cell_type": "code",
   "execution_count": 3,
   "metadata": {},
   "outputs": [],
   "source": [
    "import java.io.BufferedReader;\n",
    "import java.io.InputStreamReader;\n",
    "import java.net.HttpURLConnection;\n",
    "import java.net.URL;\n",
    "import org.json.JSONObject;\n",
    "\n",
    "public class PokeApiClient {\n",
    "\n",
    "    // Método para consultar el API de PokeAPI y obtener información de un Pokémon\n",
    "    public static String getPokemonData(String pokemonName) {\n",
    "        String urlString = \"https://pokeapi.co/api/v2/pokemon/\" + pokemonName.toLowerCase();\n",
    "        HttpURLConnection connection = null;\n",
    "        BufferedReader reader = null;\n",
    "        StringBuilder responseContent = new StringBuilder();\n",
    "\n",
    "        try {\n",
    "            // Crear objeto URL con la URL del Pokémon\n",
    "            URL url = new URL(urlString);\n",
    "            \n",
    "            // Abrir la conexión\n",
    "            connection = (HttpURLConnection) url.openConnection();\n",
    "            \n",
    "            // Establecer el método de solicitud como GET\n",
    "            connection.setRequestMethod(\"GET\");\n",
    "            \n",
    "            // Establecer tiempo de espera para la conexión (opcional)\n",
    "            connection.setConnectTimeout(5000);\n",
    "            connection.setReadTimeout(5000);\n",
    "            \n",
    "            // Verificar el código de respuesta HTTP\n",
    "            int status = connection.getResponseCode();\n",
    "            if (status != 200) {\n",
    "                throw new RuntimeException(\"Error: %d - No se pudo obtener información del Pokémon.\".formatted(status));\n",
    "            }\n",
    "\n",
    "            // Leer la respuesta del servidor\n",
    "            reader = new BufferedReader(new InputStreamReader(connection.getInputStream()));\n",
    "            String line;\n",
    "            while ((line = reader.readLine()) != null) {\n",
    "                responseContent.append(line);\n",
    "            }\n",
    "\n",
    "            // Convertir la respuesta en JSON y extraer algunos datos\n",
    "            JSONObject pokemonJson = new JSONObject(responseContent.toString());\n",
    "\n",
    "            // Obtener el nombre del Pokémon\n",
    "            String name = pokemonJson.getString(\"name\");\n",
    "\n",
    "            // Obtener el peso del Pokémon\n",
    "            int weight = pokemonJson.getInt(\"weight\");\n",
    "\n",
    "            // Obtener la lista de tipos del Pokémon\n",
    "            String types = \"\";\n",
    "            for (int i = 0; i < pokemonJson.getJSONArray(\"types\").length(); i++) {\n",
    "                types += pokemonJson.getJSONArray(\"types\")\n",
    "                            .getJSONObject(i)\n",
    "                            .getJSONObject(\"type\")\n",
    "                            .getString(\"name\");\n",
    "                if (i < pokemonJson.getJSONArray(\"types\").length() - 1) {\n",
    "                    types += \", \";\n",
    "                }\n",
    "            }\n",
    "\n",
    "            // Retornar los datos obtenidos\n",
    "            return \"Nombre: %s. Peso: %d. Tipos: %s\".formatted(name, weight, types); \n",
    "\n",
    "        } catch (Exception e) {\n",
    "            e.printStackTrace();\n",
    "            return \"Error al obtener los datos del Pokémon.\";\n",
    "        } finally {\n",
    "            // Cerrar el lector y la conexión\n",
    "            try {\n",
    "                if (reader != null) reader.close();\n",
    "                if (connection != null) connection.disconnect();\n",
    "            } catch (Exception ex) {\n",
    "                ex.printStackTrace();\n",
    "            }\n",
    "        }\n",
    "    }\n",
    "\n",
    "    public static void main(String[] args) {\n",
    "        // Consultar los datos de un Pokémon (ejemplo: \"pikachu\")\n",
    "        String[] pokemones = {\"pikachu\", \"rayquaza\", \"torchic\"};\n",
    "        for(String pokenom: pokemones){\n",
    "            String pokemonInfo = getPokemonData(pokenom);\n",
    "            System.out.println(pokemonInfo);\n",
    "        }        \n",
    "    }\n",
    "}"
   ]
  },
  {
   "cell_type": "code",
   "execution_count": null,
   "metadata": {},
   "outputs": [
    {
     "name": "stdout",
     "output_type": "stream",
     "text": [
      "Nombre: pikachu. Peso: 60. Tipos: electric\n",
      "Nombre: rayquaza. Peso: 2065. Tipos: dragon, flying\n",
      "Nombre: torchic. Peso: 25. Tipos: fire\n"
     ]
    }
   ],
   "source": [
    "// Probando clase PokeApiClient\n",
    "new PokeApiClient().main(null);"
   ]
  },
  {
   "cell_type": "markdown",
   "metadata": {},
   "source": [
    "## Descripción del Código\n",
    "\n",
    "1. **URL de la API**: Se construye la URL usando el nombre del Pokémon proporcionado. Por ejemplo, si quieres obtener datos de \"Pikachu\", la URL es `https://pokeapi.co/api/v2/pokemon/pikachu`.\n",
    "\n",
    "2. **Conexión HTTP**: Se establece una conexión HTTP con el método `GET`. Si la respuesta es exitosa (código de estado 200), se procede a leer el contenido de la respuesta.\n",
    "\n",
    "3. **Procesamiento de JSON**: Se utiliza la clase `JSONObject` para interpretar la respuesta JSON. Se obtienen campos como el nombre del Pokémon, su peso y sus tipos.\n",
    "\n",
    "4. **Estructura**: El código está estructurado para manejar excepciones y garantizar que los recursos, como las conexiones y los lectores, se cierren adecuadamente.\n",
    "\n",
    "5. **Prueba**: En el método `main`, se hace una prueba solicitando la información del Pokémon \"Pikachu\". El resultado se imprime en la consola.\n",
    "\n",
    "Este es un ejemplo básico que puedes extender para obtener más información de otros endpoints de la PokeAPI o manejar datos adicionales como habilidades, estadísticas, entre otros."
   ]
  }
 ],
 "metadata": {
  "kernelspec": {
   "display_name": "Java",
   "language": "java",
   "name": "java"
  },
  "language_info": {
   "codemirror_mode": "java",
   "file_extension": ".jshell",
   "mimetype": "text/x-java-source",
   "name": "java",
   "pygments_lexer": "java",
   "version": "21.0.5+11-Ubuntu-1ubuntu124.04"
  }
 },
 "nbformat": 4,
 "nbformat_minor": 2
}
