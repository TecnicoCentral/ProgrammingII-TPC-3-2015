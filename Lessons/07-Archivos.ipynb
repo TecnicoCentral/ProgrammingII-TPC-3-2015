{
 "cells": [
  {
   "cell_type": "markdown",
   "metadata": {},
   "source": [
    "# Escritura y Lectura\n",
    "\n",
    "## Introducción\n",
    "\n",
    "En el manejo de datos, es común encontrarse con la necesidad de guardar y recuperar información de manera eficiente. Para lograr esto, Java proporciona herramientas para **serialización** y manejo de **archivos**. La **serialización** permite convertir un objeto en una secuencia de bytes para almacenarlo o transmitirlo, mientras que el manejo de archivos permite leer y escribir datos de archivos en el sistema.\n",
    "\n",
    "Esta clase explorará en detalle los conceptos fundamentales de serialización, **deserialización**, y operaciones de archivos en Java, proporcionando ejemplos prácticos para entender su funcionamiento.\n",
    "\n",
    "## Objetivos\n",
    "\n",
    "1. Comprender el concepto de **serialización** en Java y su importancia en el almacenamiento y transmisión de objetos.\n",
    "2. Aplicar operaciones de **serialización** y **deserialización** en objetos de Java.\n",
    "3. Entender el manejo de **archivos** en Java, incluyendo la lectura y escritura de archivos.\n",
    "4. Implementar ejemplos prácticos que combinen la serialización y manejo de archivos en Java.\n"
   ]
  },
  {
   "cell_type": "markdown",
   "metadata": {},
   "source": [
    "## Lectura y Escritura de Archivos\n",
    "\n",
    "Java proporciona varias clases para trabajar con archivos, como `FileInputStream`, `FileOutputStream`, `BufferedReader`, y `BufferedWriter`. A este proceso se le suele conocer por E/S de Texto (Text I/O)\n",
    "\n",
    "**¿Cómo Java lee y escribe archivos?**\n",
    "\n",
    "<figure>\n",
    "  <img src=\"../images/Figure17.1.png\" alt=\"Trulli\" style=\"width:90%\">\n",
    "  <figcaption></figcaption>\n",
    "</figure> \n",
    "\n",
    "**Texto vs Binarios**\n",
    "\n",
    "<figure>\n",
    "  <img src=\"../images/Figure17.2.png\" alt=\"Trulli\" style=\"width:90%\">\n",
    "  <figcaption></figcaption>\n",
    "</figure> \n",
    "\n",
    "\n",
    "## BufferedInputStream/BufferedOutputStream\n",
    "\n",
    "`BufferedInputStream`/`BufferedOutputStream` puede utilizarse para acelerar la entrada y salida reduciendo el número de lecturas y escrituras en disco. Con `BufferedInputStream`, todo el bloque de datos del disco se lee una vez en el búfer de la memoria. Los datos individuales son entonces cargados a tu programa desde el buffer, como se muestra en la Figura 17.12a. Usando `BufferedOutputStream`, los datos individuales se escriben primero en el buffer de la memoria. Cuando el buffer está lleno, todos los datos en el buffer se escriben en el disco una vez, como se muestra en la Figura 17.12b.\n",
    "\n",
    "<figure>\n",
    "  <img src=\"../images/Figure17.12.png\" alt=\"Trulli\" style=\"width:100%\">\n",
    "  <figcaption></figcaption>\n",
    "</figure> \n",
    "\n",
    "<figure>\n",
    "  <img src=\"../images/Figure17.14.png\" alt=\"Trulli\" style=\"width:100%\">\n",
    "  <figcaption></figcaption>\n",
    "</figure> "
   ]
  },
  {
   "cell_type": "code",
   "execution_count": 27,
   "metadata": {},
   "outputs": [],
   "source": [
    "DataOutputStream output = new DataOutputStream(new BufferedOutputStream(new FileOutputStream(\"temp.dat\")));"
   ]
  },
  {
   "cell_type": "markdown",
   "metadata": {},
   "source": [
    "Esta clase es muy completa y robusta, sin embargo, usarla requiere de experticie. Además de esta gran clase, existen otras formas, métodos y clases, que permiten hacer la escritura y lectura de archivos de forma más amigable `BufferedReader` y `BufferedWriter`.\n",
    "\n",
    "<div align=\"center\">\n",
    "  <img src=\"https://cdn.codegym.cc/images/article/d0cf56c5-a505-40de-832c-21a075110e77/800.webp\" width=60%>\n",
    "</div>\n",
    "\n",
    "\n",
    "### Ejemplo de escritura en archivo"
   ]
  },
  {
   "cell_type": "code",
   "execution_count": 28,
   "metadata": {},
   "outputs": [],
   "source": [
    "import java.io.*;\n",
    "\n",
    "public class EscrituraArchivo {\n",
    "    public static void main(String[] args) {\n",
    "        try (BufferedWriter writer = new BufferedWriter(new FileWriter(\"archivo.txt\"))) {\n",
    "            writer.write(\"Este es un ejemplo de escritura en un archivo.\");\n",
    "            System.out.println(\"Texto escrito en el archivo.\");\n",
    "        } catch (IOException e) {\n",
    "            e.printStackTrace();\n",
    "        }\n",
    "    }\n",
    "}"
   ]
  },
  {
   "cell_type": "code",
   "execution_count": 29,
   "metadata": {},
   "outputs": [],
   "source": [
    "// Prueba el texto aquí"
   ]
  },
  {
   "cell_type": "markdown",
   "metadata": {},
   "source": [
    "Existen muchas clases de E/S para diversos fines. En general, se pueden clasificar en clases de entrada y clases de salida. Una clase de entrada contiene los métodos para leer datos, y una clase de salida contiene los métodos para escribir datos. `PrintWriter` es un ejemplo de una clase de salida que suele utilizar mucho para escribir archivos de html o css para páginas web, y `Scanner` es un ejemplo de una clase de entrada. El siguiente código crea un objeto de entrada para el archivo temp.txt y lee datos del archivo:\n"
   ]
  },
  {
   "cell_type": "code",
   "execution_count": 30,
   "metadata": {},
   "outputs": [],
   "source": [
    "PrintWriter output = new PrintWriter(\"temp.txt\");\n",
    "\n",
    "output.print(\"Java 101\");\n",
    "output.print(\"Java 102\");\n",
    "output.close();"
   ]
  },
  {
   "cell_type": "code",
   "execution_count": 31,
   "metadata": {},
   "outputs": [
    {
     "name": "stdout",
     "output_type": "stream",
     "text": [
      "Java 101Java 102\n"
     ]
    }
   ],
   "source": [
    "// Leer el archivo utilizando Scanner\n",
    "Scanner input = new Scanner(new File(\"temp.txt\"));\n",
    "System.out.println(input.nextLine());"
   ]
  },
  {
   "cell_type": "markdown",
   "metadata": {},
   "source": [
    "## Clases de E/S Binarios\n",
    "\n",
    ">El InputStream abstracto es la clase raíz para la lectura de datos binarios, y el OutputStream abstracto es la clase raíz para la escritura de datos binarios.\n",
    "\n",
    "<figure>\n",
    "  <img src=\"../images/Figure17.4.png\" alt=\"\" style=\"width:100%\">\n",
    "  <figcaption></figcaption>\n",
    "</figure> \n",
    "\n",
    "<figure>\n",
    "  <img src=\"../images/Figure17.5.png\" alt=\"\" style=\"width:100%\">\n",
    "  <figcaption></figcaption>\n",
    "</figure> \n",
    "\n",
    "\n",
    "## FileInputStream/FileOutputStream\n",
    "\n",
    "`FileInputStream`/`FileOutputStream` son para leer/escribir bytes de/a archivos. Todos los métodos de estas clases se heredan de `InputStream` y `OutputStream`. `FileInputStream`/`FileOutputStream` no introducen nuevos métodos. Para construir un `FileInputStream`, utilice los constructores mostrados en la Figura 17.6. Se producirá una `java.io.FileNotFoundException` si se intenta crear un `FileInputStream` con un fichero inexistente.\n",
    "\n",
    "<figure>\n",
    "  <img src=\"../images/Figure17.6.png\" alt=\"\" style=\"width:100%\">\n",
    "  <figcaption></figcaption>\n",
    "</figure> \n",
    "\n",
    "<figure>\n",
    "  <img src=\"../images/Figure17.7.png\" alt=\"\" style=\"width:100%\">\n",
    "  <figcaption></figcaption>\n",
    "</figure> \n",
    "\n",
    ":::{note}\n",
    "Los datos de texto se leen con la clase `Scanner` y se escriben con la clase `PrintWriter`.\n",
    ":::"
   ]
  },
  {
   "cell_type": "code",
   "execution_count": 32,
   "metadata": {},
   "outputs": [],
   "source": [
    "DataInputStream input = new DataInputStream(new BufferedInputStream(new FileInputStream(\"temp.dat\")));"
   ]
  },
  {
   "cell_type": "code",
   "execution_count": 33,
   "metadata": {},
   "outputs": [],
   "source": [
    "import java.io.*;\n",
    "public class TestFileStream {\n",
    "  public static void main(String[] args) throws IOException {\n",
    "    try (\n",
    "      // Create an output stream to the file\n",
    "      FileOutputStream output = new FileOutputStream(\"temp.dat\"); // output stream\n",
    "    ) {\n",
    "      // Output values to the file\n",
    "      for (int i = 1; i <= 10; i++)\n",
    "      output.write(i);\n",
    "    }\n",
    "    try (\n",
    "      // Create an input stream for the file\n",
    "      FileInputStream input = new FileInputStream(\"temp.dat\"); // input stream\n",
    "    ) {\n",
    "      // Read values from the file\n",
    "      int value;\n",
    "      while ((value = input.read()) != -1) // input\n",
    "      System.out.print(value + \" \");\n",
    "    }\n",
    "  }\n",
    "}"
   ]
  },
  {
   "cell_type": "code",
   "execution_count": 34,
   "metadata": {},
   "outputs": [],
   "source": [
    "// Prueba el código aquí"
   ]
  },
  {
   "cell_type": "markdown",
   "metadata": {},
   "source": [
    "### Ejemplo de lectura de archivo\n",
    "\n",
    "<figure>\n",
    "  <img src=\"../images/Figure17.13.png\" alt=\"\" style=\"width:100%\">\n",
    "  <figcaption></figcaption>\n",
    "</figure> "
   ]
  },
  {
   "cell_type": "code",
   "execution_count": 35,
   "metadata": {},
   "outputs": [],
   "source": [
    "DataInputStream input = new DataInputStream(new BufferedInputStream(new FileInputStream(\"temp.dat\")));"
   ]
  },
  {
   "cell_type": "code",
   "execution_count": 36,
   "metadata": {},
   "outputs": [],
   "source": [
    "import java.io.*;\n",
    "\n",
    "public class LecturaArchivo {\n",
    "    public static void main(String[] args) {\n",
    "        try (BufferedReader reader = new BufferedReader(new FileReader(\"archivo.txt\"))) {\n",
    "            String linea;\n",
    "            while ((linea = reader.readLine()) != null) {\n",
    "                System.out.println(linea);\n",
    "            }\n",
    "        } catch (IOException e) {\n",
    "            e.printStackTrace();\n",
    "        }\n",
    "    }\n",
    "}"
   ]
  },
  {
   "cell_type": "code",
   "execution_count": 37,
   "metadata": {},
   "outputs": [],
   "source": [
    "// Prueba el texto aquí"
   ]
  },
  {
   "cell_type": "markdown",
   "metadata": {},
   "source": [
    "## DataInputStream/DataOutputStream\n",
    "\n",
    "`DataInputStream` lee bytes del flujo y los convierte en valores de tipo primitivo o cadenas. `DataOutputStream` convierte valores de tipo primitivo o cadenas en bytes y envía los bytes al flujo.\n",
    "\n",
    "`DataInputStream` extiende `FilterInputStream` e implementa la interfaz `DataInput`. `DataOutputStream` extiende` FilterOutputStream` e implementa la interfaz `DataOutput`.\n",
    "\n",
    "<figure>\n",
    "  <img src=\"../images/Figure17.9.png\" alt=\"\" style=\"width:100%\">\n",
    "  <figcaption></figcaption>\n",
    "</figure> \n",
    "\n",
    "<figure>\n",
    "  <img src=\"../images/Figure17.10.png\" alt=\"\" style=\"width:100%\">\n",
    "  <figcaption></figcaption>\n",
    "</figure> \n",
    "\n",
    "\n",
    "<figure>\n",
    "  <img src=\"../images/Figure17.11.png\" alt=\"\" style=\"width:100%\">\n",
    "  <figcaption></figcaption>\n",
    "</figure> "
   ]
  },
  {
   "cell_type": "code",
   "execution_count": 44,
   "metadata": {},
   "outputs": [],
   "source": [
    "// Prueba el texto aquí"
   ]
  },
  {
   "cell_type": "markdown",
   "metadata": {},
   "source": [
    "## E/S de Texto vs a E/S Binaria\n",
    "\n",
    ">La E/S binaria no implica codificación ni descodificación, por lo que es más eficiente que la E/S de texto.\n",
    "\n",
    "Los ordenadores no distinguen entre archivos binarios y archivos de texto. Todos los archivos se almacenan en formato binario y, por tanto, todos los archivos son esencialmente binarios. La E/S de texto se basa en la E/S binaria para proporcionar un nivel de abstracción para la codificación y descodificación de caracteres. La codificación y descodificación se realizan automáticamente para la E/S de texto.\n",
    "\n",
    "<div align=\"center\">\n",
    "  <img src=\"\" width=80%>\n",
    "</div>\n",
    "\n",
    ">La clase abstracta `InputStream` es la clase raíz para la lectura de datos binarios, y la clase abstracta `OutputStream` es la clase raíz para escribir datos binarios.\n",
    "\n",
    "El diseño de las clases de E/S de Java es un buen ejemplo de aplicación de la herencia, donde las operaciones comunes se generalizan en superclases, y las subclases proporcionan operaciones especializadas.\n",
    "\n",
    "<div align=\"center\">\n",
    "  <img src=\"\" width=80%>\n",
    "</div>\n",
    "\n"
   ]
  },
  {
   "cell_type": "code",
   "execution_count": 45,
   "metadata": {},
   "outputs": [],
   "source": [
    "import java.io.*;\n",
    "public class TestDataStream {\n",
    "  public static void main(String[] args) throws IOException {\n",
    "    try ( // Create an output stream for file temp.dat\n",
    "      DataOutputStream output = new DataOutputStream(new FileOutputStream(\"temp.dat\"));\n",
    "    ) {\n",
    "      // Write student test scores to the file\n",
    "      output.writeUTF(\"John\");\n",
    "      output.writeDouble(85.5);\n",
    "      output.writeUTF(\"Susan\");\n",
    "      output.writeDouble(185.5);\n",
    "      output.writeUTF(\"Kim\");\n",
    "      output.writeDouble(105.25);\n",
    "    }\n",
    "    try ( // Create an input stream for file temp.dat\n",
    "    DataInputStream input = new DataInputStream(new FileInputStream(\"temp.dat\"));\n",
    "    ) {\n",
    "      // Read student test scores from the file\n",
    "      System.out.println(input.readUTF() + \" \" + input.readDouble());\n",
    "      System.out.println(input.readUTF() + \" \" + input.readDouble());\n",
    "      System.out.println(input.readUTF() + \" \" + input.readDouble());\n",
    "    }\n",
    "  }\n",
    "}"
   ]
  },
  {
   "cell_type": "code",
   "execution_count": 46,
   "metadata": {},
   "outputs": [],
   "source": [
    "// Prueba el texto aquí"
   ]
  },
  {
   "cell_type": "markdown",
   "metadata": {},
   "source": [
    "## Conclusión\n",
    "\n",
    "La serialización y el manejo de archivos son fundamentales para el desarrollo de aplicaciones en Java que requieren persistencia y comunicación de datos. La **serialización** permite convertir objetos en secuencias de bytes, facilitando su almacenamiento en archivos o su transmisión a través de redes. Esta técnica es clave cuando se necesita mantener el estado de un objeto más allá de la ejecución de un programa. Por otro lado, el **manejo de archivos** permite leer y escribir datos desde y hacia archivos, lo cual es esencial para cualquier aplicación que interactúe con sistemas de almacenamiento. \n",
    "\n",
    "Dominar estas técnicas no solo mejora la capacidad de un programador para crear aplicaciones que gestionen datos de manera efectiva, sino que también le permite construir soluciones más robustas y eficientes, asegurando que los datos persistan entre ejecuciones y que puedan ser transferidos entre diferentes sistemas de forma segura y controlada.\n",
    "\n",
    "## Recursos Adicionales\n",
    "\n",
    "### Libros\n",
    "\n",
    "- Y. Daniel Liang. *\"Introduction to Java Programming and Data Structures, Comprehensive Version\"*. Addison Wesley. Edición 12 (2019). Capítulo 17.\n",
    "- Bloch, Joshua. *Effective Java*. Addison-Wesley, 2008.\n",
    "- Eckel, Bruce. *Thinking in Java*. Prentice Hall, 2006.\n",
    "\n",
    "\n",
    "### Guias y Tutoriales\n",
    "\n",
    "- [Tutorial 09: Java Stream I/O ](https://www.clear.rice.edu/comp212/00-fall/tutorials/09/io.html)\n",
    "- [BufferedReader and BufferedWriter](https://codegym.cc/groups/posts/bufferedreader-and-bufferedwriter)\n",
    "- [Serialization and Deserialization in Java - Javatpoint](https://www.javatpoint.com/serialization-in-java)\n",
    "- [Serialization in Java - Java Serialization - DigitalOcean](https://www.digitalocean.com/community/tutorials/serialization-in-java)\n",
    "- [Introduction to Java Serialization - Baeldung](https://www.baeldung.com/java-serialization)\n",
    "\n",
    "### Videos\n",
    "\n",
    "- [Serialization Explained in 3 minutes | Tech Primers ](https://www.youtube.com/watch?v=QOKlY37XpEA)\n",
    "- [SERIALIZABLE en JAVA - Tutorial Completo Fácil ](https://www.youtube.com/watch?v=EX0_plIjumM)"
   ]
  }
 ],
 "metadata": {
  "kernelspec": {
   "display_name": "Java",
   "language": "java",
   "name": "java"
  },
  "language_info": {
   "codemirror_mode": "java",
   "file_extension": ".jshell",
   "mimetype": "text/x-java-source",
   "name": "java",
   "pygments_lexer": "java",
   "version": "21.0.4+7-Ubuntu-1ubuntu224.04"
  }
 },
 "nbformat": 4,
 "nbformat_minor": 2
}
