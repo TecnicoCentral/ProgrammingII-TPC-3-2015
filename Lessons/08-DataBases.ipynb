{
 "cells": [
  {
   "cell_type": "markdown",
   "metadata": {},
   "source": [
    "# Conexión desde Java\n",
    "\n",
    "## Objetivos\n",
    "\n",
    "- Identificar y diferenciar los tipos de bases de datos.\n",
    "- Conocer las características y usos de cada tipo de base de datos.\n",
    "- Aprender a conectar una aplicación Java con una base de datos utilizando JDBC.\n",
    "- Implementar una conexión básica y realizar operaciones simples sobre una base de datos relacional.\n",
    "\n",
    "## Introducción\n",
    "\n",
    "En el desarrollo de software, las bases de datos juegan un papel fundamental en el almacenamiento y manejo eficiente de la información. Existen varios tipos de bases de datos, cada uno diseñado para diferentes aplicaciones, y es esencial para los desarrolladores saber cómo conectarse y manipular estas bases de datos desde sus aplicaciones. En Java, la interacción con las bases de datos se realiza a través de la API JDBC (Java Database Connectivity), que proporciona un estándar para conectar aplicaciones Java con bases de datos.\n",
    "\n",
    "En esta clase, exploraremos cómo realizar una conexión básica a una base de datos utilizando Java.\n",
    "\n",
    "## Conexión\n",
    "\n",
    "La conexión a una base de datos en Java se realiza a través de la API Java Database Connectivity (JDBC). JDBC proporciona una forma estandarizada de conectarse a bases de datos relacionales. El flujo básico de conexión es:\n",
    "\n",
    "1. Cargar el controlador JDBC.\n",
    "2. Establecer la conexión con la base de datos.\n",
    "3. Crear una declaración SQL y ejecutarla.\n",
    "4. Procesar los resultados.\n",
    "5. Cerrar la conexión.\n",
    "\n",
    "### Ejemplo de Conexión a MySQL en Java usando JDBC\n",
    "\n",
    "A continuación, te mostramos cómo realizar una conexión simple a una base de datos MySQL y ejecutar una consulta básica.\n",
    "\n",
    "### Configuración de la Base de Datos\n",
    "Antes de empezar, asegúrate de tener MySQL instalado y configurado. Crea una base de datos llamada `universidad` con una tabla `estudiantes`.\n"
   ]
  },
  {
   "cell_type": "code",
   "execution_count": 12,
   "metadata": {
    "vscode": {
     "languageId": "java"
    }
   },
   "outputs": [],
   "source": [
    "%maven com.mysql:mysql-connector-j:8.3.0"
   ]
  },
  {
   "cell_type": "code",
   "execution_count": 19,
   "metadata": {
    "vscode": {
     "languageId": "java"
    }
   },
   "outputs": [],
   "source": [
    "import java.sql.*;\n",
    "\n",
    "public class DatabaseConnection {\n",
    "    private static final String URL = \"jdbc:mysql://localhost:3306/Universidad\";\n",
    "    private static final String USER = \"dba\"; // Cambia 'root' por tu usuario de MySQL\n",
    "    private static final String PASSWORD = \"123456\"; // Cambia 'yourpassword' por tu contraseña de MySQL\n",
    "\n",
    "    public static Connection getConnection() throws SQLException {\n",
    "        return DriverManager.getConnection(URL, USER, PASSWORD);\n",
    "    }\n",
    "}"
   ]
  },
  {
   "cell_type": "code",
   "execution_count": 20,
   "metadata": {
    "vscode": {
     "languageId": "java"
    }
   },
   "outputs": [
    {
     "name": "stdout",
     "output_type": "stream",
     "text": [
      "0\n",
      "false\n"
     ]
    }
   ],
   "source": [
    "import java.sql.*;\n",
    "\n",
    "//Creación de la tabla\n",
    "public class CreateTable {\n",
    "    public static void Create() {\n",
    "        String query = \"\"\"\n",
    "            CREATE TABLE IF NOT EXISTS Estudiantes (\n",
    "                `matricula` INT NOT NULL AUTO_INCREMENT,\n",
    "                `nombre` VARCHAR(50) NOT NULL,\n",
    "                `edad` INT NULL DEFAULT NULL,\n",
    "                `fechaNacimiento` DATE NULL DEFAULT NULL,\n",
    "                `direccion` VARCHAR(100) NULL DEFAULT NULL,\n",
    "                `telefono` VARCHAR(15) NULL DEFAULT NULL,\n",
    "                `correoElectronico` VARCHAR(100) NULL DEFAULT NULL,\n",
    "                PRIMARY KEY (`matricula`)\n",
    "                );\n",
    "            \"\"\";;\n",
    "        try (Connection connection = DatabaseConnection.getConnection();\n",
    "             Statement stmt = connection.createStatement()) {\n",
    "          \n",
    "              // Usando el método executeUpdate\n",
    "              int result = stmt.executeUpdate(query);\n",
    "              System.out.println(result);\n",
    "\n",
    "              // Usando el método execute\n",
    "              boolean result1 = stmt.execute(query);\n",
    "              System.out.println(result1);\n",
    "            \n",
    "        } catch (SQLException e) {\n",
    "            e.printStackTrace();\n",
    "        }\n",
    "    }\n",
    "\n",
    "    public static void main(String[] args) {\n",
    "        Create();\n",
    "    }\n",
    "  }\n",
    "new CreateTable().main(null)"
   ]
  },
  {
   "cell_type": "code",
   "execution_count": 23,
   "metadata": {
    "vscode": {
     "languageId": "java"
    }
   },
   "outputs": [],
   "source": [
    "%maven com.mysql:mysql-connector-j:8.3.0\n",
    "\n",
    "import java.sql.Connection;\n",
    "import java.sql.DriverManager;\n",
    "import java.sql.ResultSet;\n",
    "import java.sql.Statement;\n",
    "\n",
    "public class ConexionDB {\n",
    "    public static void main(String[] args) {\n",
    "        // URL de conexión a la base de datos\n",
    "        String url = \"jdbc:mysql://localhost:3306/Universidad\"; // Cambiar 'localhost' y 'universidad' según tu configuración\n",
    "        String usuario = \"dba\"; // Usuario de MySQL\n",
    "        String contraseña = \"123456\"; // Contraseña de MySQL\n",
    "\n",
    "        try {\n",
    "            // Cargar el controlador JDBC\n",
    "            Class.forName(\"com.mysql.cj.jdbc.Driver\");\n",
    "\n",
    "            // Establecer la conexión\n",
    "            Connection conexion = DriverManager.getConnection(url, usuario, contraseña);\n",
    "\n",
    "            // Crear una declaración SQL\n",
    "            Statement stmt = conexion.createStatement();\n",
    "            String sql = \"SELECT * FROM Estudiantes\";\n",
    "\n",
    "            // Ejecutar la consulta\n",
    "            ResultSet rs = stmt.executeQuery(sql);\n",
    "\n",
    "            // Procesar los resultados\n",
    "            while (rs.next()) {\n",
    "                System.out.println(\"Matricula: \" + rs.getInt(\"matricula\"));\n",
    "                System.out.println(\"Nombre: \" + rs.getString(\"nombre\"));\n",
    "                System.out.println(\"Edad: \" + rs.getInt(\"edad\"));\n",
    "            }\n",
    "\n",
    "            // Cerrar la conexión\n",
    "            rs.close();\n",
    "            stmt.close();\n",
    "            conexion.close();\n",
    "\n",
    "        } catch (Exception e) {\n",
    "            e.printStackTrace();\n",
    "        }\n",
    "    }\n",
    "}"
   ]
  },
  {
   "cell_type": "code",
   "execution_count": 24,
   "metadata": {
    "vscode": {
     "languageId": "java"
    }
   },
   "outputs": [],
   "source": [
    "new ConexionDB().main(null);"
   ]
  },
  {
   "cell_type": "markdown",
   "metadata": {},
   "source": [
    "new"
   ]
  },
  {
   "cell_type": "code",
   "execution_count": null,
   "metadata": {
    "vscode": {
     "languageId": "java"
    }
   },
   "outputs": [],
   "source": []
  },
  {
   "cell_type": "markdown",
   "metadata": {},
   "source": []
  },
  {
   "cell_type": "code",
   "execution_count": null,
   "metadata": {
    "vscode": {
     "languageId": "java"
    }
   },
   "outputs": [],
   "source": []
  }
 ],
 "metadata": {
  "kernelspec": {
   "display_name": "Java",
   "language": "java",
   "name": "java"
  },
  "language_info": {
   "codemirror_mode": "java",
   "file_extension": ".jshell",
   "mimetype": "text/x-java-source",
   "name": "Java",
   "pygments_lexer": "java",
   "version": "21.0.5+11-Ubuntu-1ubuntu124.04"
  }
 },
 "nbformat": 4,
 "nbformat_minor": 2
}
