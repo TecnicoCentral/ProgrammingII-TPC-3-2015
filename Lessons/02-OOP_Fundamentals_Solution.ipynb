{
 "cells": [
  {
   "cell_type": "markdown",
   "metadata": {},
   "source": [
    "# Solución\n"
   ]
  },
  {
   "cell_type": "markdown",
   "metadata": {},
   "source": [
    "## 1. Ejercicio 1: Creación de Clases y Objetos\n",
    "   \n",
    "- Crear una clase para algo que te guste mucho (película, carros, motos, anime, música, etc) y agrega al menos 5 atributos relacionados. Implementar métodos para establecer y obtener estos valores.\n"
   ]
  },
  {
   "cell_type": "code",
   "execution_count": null,
   "metadata": {},
   "outputs": [],
   "source": [
    "class Anime{\n",
    "  private int capitulos;\n",
    "  private String titulo;\n",
    "  private int año_lanzamiento;\n",
    "  private boolean finalizado;\n",
    "  private double calificacion; // sobre 10, según IMDb\n",
    "  private String genero;\n",
    "\n",
    "  public Anime(){}\n",
    "  public Anime(String titulo, int capitulos, int año_lanzamiento, boolean finalizado, double calificacion, String genero){\n",
    "    this.capitulos = capitulos;\n",
    "    this.titulo = titulo;\n",
    "    this.año_lanzamiento = año_lanzamiento;\n",
    "    this.finalizado = finalizado;\n",
    "    this.calificacion = calificacion;\n",
    "    this.genero = genero;\n",
    "  }\n",
    "\n",
    "  public void setCapitulos(int capitulos){\n",
    "    this.capitulos = capitulos; \n",
    "  }\n",
    "  public int getCapitulos(){ return capitulos;}\n",
    "\n",
    "  public void setTitulo(String titulo){\n",
    "    this.titulo = titulo;\n",
    "  }\n",
    "  public String getTitulo(){ return titulo;}\n",
    "\n",
    "  public void setAñoLanzamiento(int año_lanzamiento){\n",
    "    this.año_lanzamiento = año_lanzamiento;\n",
    "  }\n",
    "  public int getAñoLanzamiento(){ return año_lanzamiento;}\n",
    "\n",
    "  public void setFinalizado(boolean finalizado){\n",
    "    this.finalizado = finalizado;\n",
    "  }\n",
    "  public boolean getFinalizado(){ return finalizado;}\n",
    "\n",
    "  public void setCalificacion(double calificacion){\n",
    "    this.calificacion = calificacion;\n",
    "  }  \n",
    "  public double getCalificacion(){ return calificacion;}\n",
    "\n",
    "  public void setGenero(String genero){\n",
    "    this.genero = genero;\n",
    "  }\n",
    "  public String getGenero(){ return genero;}\n",
    "}"
   ]
  },
  {
   "cell_type": "code",
   "execution_count": 10,
   "metadata": {},
   "outputs": [
    {
     "name": "stdout",
     "output_type": "stream",
     "text": [
      "Titulo: One Piece\n",
      "Calificación: 9.0\n",
      "Capitulos: 1117\n",
      "Año Lanzamiento: 1997\n",
      "Finalizado: false\n",
      "Genero: Aventura\n",
      "\n",
      "Título: HunterXHunter\n",
      "Calificación: 9,0\n",
      "Finalizado: true\n",
      "Año Lanzamiento: 2011\n",
      "Capítulos: 148\n",
      "Género: Aventura\n",
      "\n"
     ]
    }
   ],
   "source": [
    "// Probando la clase\n",
    "Anime OnePiece = new Anime();\n",
    "OnePiece.setTitulo(\"One Piece\");\n",
    "System.out.println(\"Titulo: \"+OnePiece.getTitulo());\n",
    "\n",
    "OnePiece.setCalificacion(9);\n",
    "System.out.println(\"Calificación: \"+OnePiece.getCalificacion());\n",
    "\n",
    "OnePiece.setCapitulos(1117);\n",
    "System.out.println(\"Capitulos: \"+OnePiece.getCapitulos());\n",
    "\n",
    "OnePiece.setAñoLanzamiento(1997);\n",
    "System.out.println(\"Año Lanzamiento: \"+OnePiece.getAñoLanzamiento());\n",
    "\n",
    "OnePiece.setFinalizado(false);\n",
    "System.out.println(\"Finalizado: \"+OnePiece.getFinalizado());\n",
    "\n",
    "OnePiece.setGenero(\"Aventura\");\n",
    "System.out.println(\"Genero: \"+OnePiece.getGenero());\n",
    "System.out.println();\n",
    "\n",
    "// Ahora usando el constructor\n",
    "// String titulo, int capitulos, int año_lanzamiento, boolean finalizado, double calificacion\n",
    "Anime HXH = new Anime(\"HunterXHunter\", 148, 2011, true, 9, \"Aventura\");\n",
    "System.out.println(\"\"\"\n",
    "    Título: %s\n",
    "    Calificación: %.1f\n",
    "    Finalizado: %b\n",
    "    Año Lanzamiento: %d\n",
    "    Capítulos: %d\n",
    "    Género: %s\n",
    "    \"\"\".formatted(HXH.getTitulo(), HXH.getCalificacion(), HXH.getFinalizado(),\n",
    "    HXH.getAñoLanzamiento(), HXH.getCapitulos(), HXH.getGenero()));"
   ]
  },
  {
   "cell_type": "markdown",
   "metadata": {},
   "source": [
    "   - Crear una subclase que herede de los atributos y métodos de la clase creada anteriormente. Además, añada un método que imprima un mensaje utilizando los atributos definidos."
   ]
  },
  {
   "cell_type": "code",
   "execution_count": 11,
   "metadata": {},
   "outputs": [],
   "source": [
    "class Isekai extends Anime{\n",
    "  \n",
    "  public Isekai(String titulo, int capitulos, int año_lanzamiento, boolean finalizado, double calificacion){\n",
    "    super(titulo, capitulos, año_lanzamiento, finalizado, calificacion, \"Isekai\");\n",
    "  }\n",
    "\n",
    "  public void MostrarInformacion(){\n",
    "    System.out.println(\"\"\"\n",
    "        El anime de interes es: %s.\n",
    "        Este anime fue lanzado en %d con un total de %d capitulos. Obtuvo una calificación de %.2f en IMBd y pertenece al genero %s. \n",
    "        ¿Esta finalizado?: %b.\n",
    "        \"\"\".formatted(this.getTitulo().toUpperCase(), this.getAñoLanzamiento(), this.getCapitulos(), \n",
    "                      this.getCalificacion(), this.getGenero(), this.getFinalizado()));\n",
    "  }\n",
    "}"
   ]
  },
  {
   "cell_type": "code",
   "execution_count": 12,
   "metadata": {},
   "outputs": [
    {
     "name": "stdout",
     "output_type": "stream",
     "text": [
      "El anime de interes es: THAT TIME I GOT REINCARNATED AS A SLIME.\n",
      "Este anime fue lanzado en 2022 con un total de 72 capitulos. Obtuvo una calificación de 6,80 en IMBd y pertenece al genero Isekai.\n",
      "¿Esta finalizado?: false.\n",
      "\n"
     ]
    }
   ],
   "source": [
    "// Probando la clase\n",
    "Isekai slime = new Isekai(\"That Time I Got Reincarnated as a Slime\", 72, 2022, false, 6.8);\n",
    "slime.MostrarInformacion();"
   ]
  },
  {
   "cell_type": "markdown",
   "metadata": {},
   "source": [
    "## 2. Ejercicio 2: Uso de Herencia y Polimorfismo\n",
    "   \n",
    "- Crear una clase `Licores` con un al menos 5 atributos y dos métodos: uno `PrecioPorPersona(NoPersonas)` y otro que inventes."
   ]
  },
  {
   "cell_type": "code",
   "execution_count": 13,
   "metadata": {},
   "outputs": [],
   "source": [
    "class Licores {\n",
    "  public int volumen;\n",
    "  public String marca;\n",
    "  public String tipo;\n",
    "  public double precio;\n",
    "  public boolean disponible;\n",
    "\n",
    "  public Licores(){}\n",
    "  \n",
    "  public Licores(int volumen, String marca, String tipo, double precio, boolean disponible){\n",
    "    this.volumen = volumen;\n",
    "    this.marca = marca;\n",
    "    this.tipo = tipo;\n",
    "    this.precio = precio;\n",
    "    this.disponible = disponible;\n",
    "  }\n",
    "\n",
    "  public double PrecioPorPersona(int NoPersonas){\n",
    "    return precio/NoPersonas;\n",
    "  }\n",
    "\n",
    "  public void MostrarInformacion(int NoPersonas){\n",
    "    System.out.println(\"\"\"\n",
    "        El licor tiene un volumen de %d mL y cuesta %.1f. Es de marca %s y de tipo %s. \n",
    "        ¿Esta disponible? %b \n",
    "        Si se compra entre %d personas, a cada uno le tocaria poner de a %.1f.\n",
    "        \"\"\".formatted(volumen, precio, marca, tipo, disponible, NoPersonas, PrecioPorPersona(NoPersonas)));\n",
    "  }\n",
    "}"
   ]
  },
  {
   "cell_type": "code",
   "execution_count": 14,
   "metadata": {},
   "outputs": [
    {
     "name": "stdout",
     "output_type": "stream",
     "text": [
      "El licor tiene un volumen de 750 mL y cuesta 49000,0. Es de marca Antioqueño y de tipo Aguardiente.\n",
      "¿Esta disponible? true\n",
      "Si se compra entre 4 personas, a cada uno le tocaria poner de a 12250,0.\n",
      "\n"
     ]
    }
   ],
   "source": [
    "// Probando la clase\n",
    "Licores guaro = new Licores(750, \"Antioqueño\", \"Aguardiente\", 49000, true);\n",
    "guaro.MostrarInformacion(4);"
   ]
  },
  {
   "cell_type": "markdown",
   "metadata": {},
   "source": [
    "   - Crear clases derivadas `Pola`, `Rones`, y otra que te guste que sobrescriban los método `PrecioPorPersona(NoPersonas)` y el que agregaste. Implementar una clase de prueba para demostrar el polimorfismo."
   ]
  },
  {
   "cell_type": "code",
   "execution_count": 15,
   "metadata": {},
   "outputs": [],
   "source": [
    "class Pola extends Licores{\n",
    "\n",
    "  public Pola(int volumen, String marca, double precio, boolean disponible){\n",
    "    super(volumen, marca, \"Cerveza\", precio, disponible);\n",
    "  }\n",
    "\n",
    "  @Override\n",
    "  public double PrecioPorPersona(int NoPersonas){\n",
    "    return precio/(NoPersonas+1); // como si alguien pone doble\n",
    "  }\n",
    "}\n",
    "\n",
    "class Rones extends Licores{\n",
    "\n",
    "  public Rones(int volumen, String marca, double precio, boolean disponible){\n",
    "    super(volumen, marca, \"Ron\", precio, disponible);\n",
    "  }\n",
    "\n",
    "  @Override\n",
    "  public double PrecioPorPersona(int NoPersonas){\n",
    "    return 0.9*precio/NoPersonas; // El ron tiene un 10% de descuento (0.9*)\n",
    "  }\n",
    "}\n",
    "\n",
    "class Tequila extends Licores{\n",
    "\n",
    "  public Tequila(int volumen, String marca, double precio, boolean disponible){\n",
    "    super(volumen, marca, \"Tequila\", precio, disponible);\n",
    "  }\n",
    "\n",
    "  @Override\n",
    "  public double PrecioPorPersona(int NoPersonas){\n",
    "    if(NoPersonas < 5){\n",
    "      return 0.8*precio/NoPersonas; // con 20% de descuento\n",
    "    }\n",
    "    else{\n",
    "      return precio/NoPersonas;\n",
    "    }\n",
    "  }\n",
    "}"
   ]
  },
  {
   "cell_type": "code",
   "execution_count": 16,
   "metadata": {},
   "outputs": [
    {
     "name": "stdout",
     "output_type": "stream",
     "text": [
      "El licor tiene un volumen de 1000 mL y cuesta 6000,0. Es de marca Club Colombia y de tipo Cerveza.\n",
      "¿Esta disponible? true\n",
      "Si se compra entre 5 personas, a cada uno le tocaria poner de a 1000,0.\n",
      "\n",
      "El licor tiene un volumen de 750 mL y cuesta 51900,0. Es de marca Ron Viejo de Caldas Tradicional y de tipo Ron.\n",
      "¿Esta disponible? true\n",
      "Si se compra entre 3 personas, a cada uno le tocaria poner de a 15570,0.\n",
      "\n",
      "El licor tiene un volumen de 750 mL y cuesta 45900,0. Es de marca TEQUILA NEWTON GOLD y de tipo Tequila.\n",
      "¿Esta disponible? false\n",
      "Si se compra entre 8 personas, a cada uno le tocaria poner de a 5737,5.\n",
      "\n"
     ]
    }
   ],
   "source": [
    "class PruebaLicores{\n",
    "  public void main(String[] args){\n",
    "    Pola ClubColombia = new Pola(1000, \"Club Colombia\", 6000, true);\n",
    "    Rones Caldas = new Rones(750, \"Ron Viejo de Caldas Tradicional\", 51900, true);\n",
    "    Tequila Newton = new Tequila(750, \"TEQUILA NEWTON GOLD\", 45900, false);\n",
    "\n",
    "    ClubColombia.MostrarInformacion(5);\n",
    "    // System.out.println();\n",
    "    Caldas.MostrarInformacion(3);\n",
    "    // System.out.println();\n",
    "    Newton.MostrarInformacion(8);\n",
    "  }\n",
    "}\n",
    "\n",
    "// Probando la clase de prueba\n",
    "PruebaLicores prueba = new PruebaLicores();\n",
    "prueba.main(new String[] {});"
   ]
  }
 ],
 "metadata": {
  "kernelspec": {
   "display_name": "Java",
   "language": "java",
   "name": "java"
  },
  "language_info": {
   "codemirror_mode": "java",
   "file_extension": ".jshell",
   "mimetype": "text/x-java-source",
   "name": "java",
   "pygments_lexer": "java",
   "version": "21.0.4+7-Ubuntu-1ubuntu224.04"
  }
 },
 "nbformat": 4,
 "nbformat_minor": 2
}
