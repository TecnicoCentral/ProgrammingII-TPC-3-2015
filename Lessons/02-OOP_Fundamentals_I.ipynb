{
 "cells": [
  {
   "cell_type": "markdown",
   "metadata": {},
   "source": [
    "# Programación Orientada a Objetos"
   ]
  },
  {
   "cell_type": "markdown",
   "metadata": {},
   "source": [
    "La Programación Orientada a Objetos (POO) es un paradigma de programación que utiliza \"objetos\" para modelar datos y comportamientos del mundo real. Cada objeto es una instancia de una \"clase\", que define las propiedades (atributos) y las acciones (métodos) que el objeto puede realizar.\n",
    "\n",
    "- **Concepto:**  \n",
    "  En POO, el software se diseña y organiza en torno a \"objetos\", que pueden ser físicos o conceptuales. Este enfoque es diferente al paradigma de programación estructurada, donde el enfoque principal son las funciones o procedimientos.\n",
    "\n",
    "- **Metodología:**  \n",
    "  La POO se basa en cuatro pilares fundamentales:\n",
    "  - **Herencia:** Permite que una clase (subclase) herede atributos y métodos de otra clase (superclase).\n",
    "  - **Polimorfismo:** Habilidad de los objetos de diferentes clases para responder al mismo mensaje o método de formas distintas.\n",
    "  - **Abstracción:** Proceso de ocultar detalles complejos y mostrar solo los esenciales.\n",
    "  - **Encapsulamiento:** Agrupar datos y métodos que operan sobre esos datos en una sola unidad (clase) y protegerlos del acceso externo.\n",
    "\n",
    "```{figure} https://lh6.googleusercontent.com/yPsibbUh1aHOvi0U3-wtdlNpWWutbyYULv1PLkx0QlOOq81DiXVvPgvKVrtY7Ef1yZF5NLabXrHBjHL80lx9hTqR_64jGRFZdbR9FIs4LDR9RcEn1M9LX_D5i4fYKR4vNZA-dZ9R\n",
    "---\n",
    "width: 70%\n",
    "name: oop_concepts\n",
    "---\n",
    "Conceptos básicos de la programación orientada a objetos (POO). Imagen tomada de [Why Object-Oriented Programming Matters](https://www.apollotechnical.com/why-object-oriented-programming-matters/?external_link=true).\n",
    "\n",
    "```"
   ]
  },
  {
   "cell_type": "markdown",
   "metadata": {},
   "source": [
    "## Atributos, Métodos y Visibilidad\n",
    "- **Atributos:**  \n",
    "  Los atributos son las variables que pertenecen a una clase. Representan las propiedades o características del objeto. En Java, los atributos suelen declararse como variables de instancia."
   ]
  },
  {
   "cell_type": "code",
   "execution_count": null,
   "metadata": {
    "id": "6nLPpw6pcX20"
   },
   "outputs": [],
   "source": [
    "public class Persona {\n",
    "    public String nombre;\n",
    "    private int edad;\n",
    "\n",
    "    // Agrega tres atributos de diferente tipo (float, char, etc)\n",
    "}\n",
    "\n",
    "// Define la clase con tu nombre e imprime los atributos, ¿se pueden imprimir todos?\n",
    "\n",
    "\n",
    "// Da un valor a los atributos e imprimelos\n"
   ]
  },
  {
   "cell_type": "markdown",
   "metadata": {
    "id": "2wP6glcHcX20"
   },
   "source": [
    "- **Métodos:**  \n",
    "  Los métodos son funciones que pertenecen a una clase y definen el comportamiento de los objetos. Los métodos pueden acceder y modificar los atributos de la clase."
   ]
  },
  {
   "cell_type": "code",
   "execution_count": null,
   "metadata": {
    "id": "m92745FRcX21"
   },
   "outputs": [],
   "source": [
    "public class Persona {\n",
    "    private String nombre;\n",
    "    private int edad;\n",
    "\n",
    "    public void setNombre(String nombre) {\n",
    "        this.nombre = nombre;\n",
    "    }\n",
    "\n",
    "    public String getNombre() {\n",
    "        return nombre;\n",
    "    }\n",
    "\n",
    "    // Agrega un método que imprima el nombre y la edad\n",
    "\n",
    "}\n",
    "\n",
    "// Crea el objeto con tu nombre y prueba los tres métodos\n",
    "\n"
   ]
  },
  {
   "cell_type": "markdown",
   "metadata": {
    "id": "KUfH8S0PcX21"
   },
   "source": [
    "- **Visibilidad:**  \n",
    "  La visibilidad define quién puede acceder a los atributos y métodos de una clase. En Java, se usan los modificadores de acceso:\n",
    "  - **`private`:** Solo accesible dentro de la misma clase.\n",
    "  - **`protected`:** Accesible dentro de la misma clase, subclases y el mismo paquete.\n",
    "  - **`public`:** Accesible desde cualquier parte del programa.\n",
    "  - **`default` (sin modificador):** Accesible dentro del mismo paquete."
   ]
  },
  {
   "cell_type": "code",
   "execution_count": null,
   "metadata": {
    "id": "kg873SQocX21"
   },
   "outputs": [],
   "source": [
    "public class Persona {\n",
    "    private String nombre; // Atributo privado\n",
    "    public void setNombre(String nombre) { // Método público\n",
    "        this.nombre = nombre;\n",
    "    }\n",
    "    // Agrega otro método que retorne el nombre\n",
    "\n",
    "}\n",
    "\n",
    "// Define un objeto de la clase Persona y ejecuta el método setNombre, ¡hace falta algo?\n"
   ]
  },
  {
   "cell_type": "markdown",
   "metadata": {},
   "source": [
    "## Clases\n",
    "\n",
    "Una clase es una plantilla o un modelo que define un conjunto de atributos y métodos comunes a todos los objetos que pertenecen a esa clase. En esencia, una clase describe las propiedades y comportamientos que sus objetos asociados tendrán. Es la definición abstracta del concepto que se desea modelar.\n"
   ]
  },
  {
   "cell_type": "code",
   "execution_count": null,
   "metadata": {
    "id": "qvie9ghFcX21"
   },
   "outputs": [],
   "source": [
    "public class Persona {\n",
    "    private String nombre;\n",
    "    private int edad;\n",
    "    // Agrega 3 atributos más de diferente tipo de variable\n",
    "\n",
    "    // Constructor\n",
    "    public Persona(String nombre, int edad) {\n",
    "        this.nombre = nombre;\n",
    "        this.edad = edad;\n",
    "        // Modifica el constructor y agrega los tres atributos que se definieron anteriormente\n",
    "    }\n",
    "\n",
    "    // Métodos\n",
    "    public void mostrarInformacion() {\n",
    "        System.out.println(\"Nombre: \" + nombre + \", Edad: \" + edad);\n",
    "        // Modifica este método y agrega los atributos que agregaste\n",
    "    }\n",
    "}\n",
    "\n",
    "// Crea un objeto de la clase Persona y prueba el constructor\n",
    "\n",
    "// Llama el método que muestra toda la información de la persona\n"
   ]
  },
  {
   "cell_type": "markdown",
   "metadata": {
    "id": "EuIlhEvPcX22"
   },
   "source": [
    "  En este ejemplo, `Persona` es una clase que define dos atributos (`nombre` y `edad`) y un método (`mostrarInformacion`). Esta clase es una abstracción de lo que significa ser una persona en el contexto del programa."
   ]
  },
  {
   "cell_type": "markdown",
   "metadata": {},
   "source": [
    "## Objetos\n",
    "\n",
    "Un objeto es una instancia de una clase. Cuando se crea un objeto, se reserva memoria para almacenar sus atributos, y el objeto puede utilizar los métodos definidos en su clase. Cada objeto tiene su propio estado independiente, determinado por los valores de sus atributos."
   ]
  },
  {
   "cell_type": "code",
   "execution_count": null,
   "metadata": {
    "id": "2VMOBJHccX22"
   },
   "outputs": [],
   "source": []
  },
  {
   "cell_type": "markdown",
   "metadata": {
    "id": "jbbG72IQcX22"
   },
   "source": [
    "En este fragmento de código, `persona1` y `persona2` son objetos de la clase `Persona`. Cada objeto tiene su propio conjunto de atributos (`nombre` y `edad`), lo que permite que se almacene y maneje información distinta para cada persona."
   ]
  },
  {
   "cell_type": "markdown",
   "metadata": {},
   "source": [
    "## Metodología de la POO\n",
    "\n",
    "La POO se estructura en torno a cuatro pilares fundamentales: **Encapsulamiento**, **Abstracción**,  **Herencia**, y **Polimorfismo**.\n",
    "\n",
    "```{figure} https://miro.medium.com/v2/resize:fit:720/format:webp/0*GQCVlaNMkJQXWF8C.png\n",
    "---\n",
    "width: 75%\n",
    "name: 4pilars\n",
    "---\n",
    "Los 4 pilares de la POO. Imagen tomada de [What is OOP (Object Oriented Programming)?](https://medium.com/@rafaelmammadov/what-is-oop-dc36c8bce775).\n",
    "\n",
    "```\n",
    "\n",
    "A continuación, se describe cada pilar acompañado de ejemplos en Java."
   ]
  },
  {
   "cell_type": "markdown",
   "metadata": {},
   "source": [
    "### Encapsulamiento\n",
    "\n",
    "El encapsulamiento es la práctica de agrupar datos (atributos) y comportamientos (métodos) en una sola unidad llamada clase, y restringir el acceso a ciertos detalles de implementación desde el exterior. Esto se logra mediante modificadores de acceso como `private`, `protected`, y `public`."
   ]
  },
  {
   "cell_type": "code",
   "execution_count": null,
   "metadata": {
    "id": "bSUtRCvncX23"
   },
   "outputs": [],
   "source": [
    "public class CuentaBancaria {\n",
    "  private double saldo;\n",
    "\n",
    "  public CuentaBancaria(double saldoInicial) {\n",
    "      this.saldo = saldoInicial;\n",
    "  }\n",
    "\n",
    "  public void depositar(double cantidad) {\n",
    "      if (cantidad > 0) {\n",
    "          saldo += cantidad;\n",
    "      }\n",
    "  }\n",
    "\n",
    "  public void retirar(double cantidad) {\n",
    "      if (cantidad > 0 && cantidad <= saldo) {\n",
    "          saldo -= cantidad;\n",
    "      }\n",
    "  }\n",
    "\n",
    "  public double getSaldo() {\n",
    "      return saldo;\n",
    "  }\n",
    "}\n",
    "\n",
    "// Crea un objeto de la clase CuentaBancaria y prueba sus atributos y métodos.\n",
    "// Si es necesario agrega más código a la clase"
   ]
  },
  {
   "cell_type": "markdown",
   "metadata": {
    "id": "zDEx8LjycX24"
   },
   "source": [
    "En este ejemplo, el atributo `saldo` está encapsulado dentro de la clase `CuentaBancaria`, lo que impide que sea modificado directamente desde fuera de la clase. Los métodos `depositar`, `retirar`, y `getSaldo` proporcionan una interfaz controlada para interactuar con el saldo."
   ]
  },
  {
   "cell_type": "markdown",
   "metadata": {},
   "source": [
    "### **Herencia**\n",
    "\n",
    "La herencia permite crear una nueva clase basada en una clase existente. La nueva clase (subclase) hereda atributos y métodos de la clase existente (superclase), lo que facilita la reutilización de código y la creación de jerarquías."
   ]
  },
  {
   "cell_type": "code",
   "execution_count": null,
   "metadata": {
    "id": "VxxeSSfVcX24"
   },
   "outputs": [],
   "source": [
    "public class Persona {\n",
    "    private String nombre;\n",
    "    private int edad;\n",
    "\n",
    "    public Persona(String nombre, int edad) {\n",
    "        this.nombre = nombre;\n",
    "        this.edad = edad;\n",
    "        // Agrega 2 atributos más y modifica el constructor\n",
    "\n",
    "    }\n",
    "\n",
    "    public void mostrarInformacion() {\n",
    "        // Actualiza el código para que muestre todos los atributos\n",
    "        System.out.println(\"Nombre: \" + nombre + \", Edad: \" + edad);\n",
    "    }\n",
    "}\n",
    "\n",
    "public class Estudiante extends Persona {\n",
    "    private String carrera;\n",
    "\n",
    "    public Estudiante(String nombre, int edad, String carrera) {\n",
    "        super(nombre, edad);\n",
    "        this.carrera = carrera;\n",
    "        // Agrega 2 atributos más y modifica el constructor\n",
    "\n",
    "    }\n",
    "\n",
    "    public void mostrarInformacion() {\n",
    "        // Actualiza el código para que muestre todos los atributos\n",
    "        super.mostrarInformacion();\n",
    "        System.out.println(\"Carrera: \" + carrera);\n",
    "    }\n",
    "}\n",
    "\n",
    "// Crea un objeto de la clase Estudiante y pasale los datos necesarios.\n",
    "\n",
    "// Ejecuta el método que muestra toda su información\n"
   ]
  },
  {
   "cell_type": "markdown",
   "metadata": {
    "id": "YoeA5gTtcX24"
   },
   "source": [
    "  En este ejemplo, la clase `Estudiante` hereda los atributos `nombre` y `edad` de la clase `Persona` y añade el atributo `carrera`. Además, sobrescribe el método `mostrarInformacion()` para añadir información adicional sobre la carrera del estudiante."
   ]
  },
  {
   "cell_type": "markdown",
   "metadata": {},
   "source": [
    "### Polimorfismo\n",
    "\n",
    "El polimorfismo permite que objetos de diferentes clases sean tratados como objetos de una clase común, generalmente a través de una referencia de la superclase o una interfaz. Esto significa que un mismo método puede comportarse de diferentes maneras según el objeto que lo invoque."
   ]
  },
  {
   "cell_type": "code",
   "execution_count": null,
   "metadata": {
    "id": "pOqMaKZscX24"
   },
   "outputs": [],
   "source": [
    "class Animal {\n",
    "    public void hacerSonido() {\n",
    "        System.out.println(\"El animal hace un sonido\");\n",
    "    }\n",
    "}\n",
    "\n",
    "class Perro extends Animal {\n",
    "    @Override\n",
    "    public void hacerSonido() {\n",
    "        System.out.println(\"Guauuuu\");\n",
    "    }\n",
    "}\n",
    "\n",
    "class Gato extends Animal {\n",
    "    @Override\n",
    "    public void hacerSonido() {\n",
    "        System.out.println(\"Miauuu\");\n",
    "    }\n",
    "}\n",
    "\n",
    "// Crea otra clase de tu animal favorito que extienda la clase Animal\n",
    "\n",
    "public class TestPolimorfismo {\n",
    "    public static void main(String[] args) {\n",
    "        Animal miAnimal = new Animal();\n",
    "        Animal miPerro = new Perro();\n",
    "        Animal miGato = new Gato();\n",
    "        // Define el objeto que agregaste\n",
    "\n",
    "\n",
    "        miAnimal.hacerSonido(); // El animal hace un sonido\n",
    "        miPerro.hacerSonido();  // El perro ladra\n",
    "        miGato.hacerSonido();   // El gato maúlla\n",
    "        // Prueba el sonido de tu animal\n",
    "\n",
    "    }\n",
    "}\n",
    "\n",
    "// Crea un objeto de la clase TestPolimorfismo y llama el método main"
   ]
  },
  {
   "cell_type": "markdown",
   "metadata": {
    "id": "O1kVEjMIcX25"
   },
   "source": [
    "En este ejemplo, `Perro` y `Gato` son subclases de `Animal`, y ambas sobrescriben el método `hacerSonido()`. Gracias al polimorfismo, la referencia de tipo `Animal` puede apuntar a objetos de tipo `Perro` o `Gato`, y el método `hacerSonido()` se ejecuta de acuerdo con el tipo real del objeto."
   ]
  },
  {
   "cell_type": "markdown",
   "metadata": {},
   "source": [
    "### Abstracción\n",
    "\n",
    "La abstracción se refiere a la capacidad de enfocarse en los aspectos esenciales de una entidad mientras se ocultan los detalles complejos. Esto permite trabajar con conceptos de alto nivel sin preocuparse por los detalles de implementación."
   ]
  },
  {
   "cell_type": "code",
   "execution_count": null,
   "metadata": {
    "id": "webHE9L_cX23"
   },
   "outputs": [],
   "source": [
    "abstract class Figura {\n",
    "    abstract double calcularArea(); // Método abstracto, sin implementación\n",
    "    // Agrega un método abstracto que calcule el perímetro\n",
    "\n",
    "}\n",
    "\n",
    "class Circulo extends Figura {\n",
    "    private double radio;\n",
    "\n",
    "    public Circulo(double radio) {\n",
    "        this.radio = radio;\n",
    "    }\n",
    "\n",
    "    @Override\n",
    "    double calcularArea() {\n",
    "        return Math.PI * radio * radio;\n",
    "    }\n",
    "\n",
    "    // Implementa el método que calcula el perímetro\n",
    "\n",
    "}\n",
    "\n",
    "class Rectangulo extends Figura {\n",
    "    private double ancho;\n",
    "    private double alto;\n",
    "\n",
    "    public Rectangulo(double ancho, double alto) {\n",
    "        this.ancho = ancho;\n",
    "        this.alto = alto;\n",
    "    }\n",
    "\n",
    "    @Override\n",
    "    double calcularArea() {\n",
    "        return ancho * alto;\n",
    "    }\n",
    "\n",
    "    // Implementa el método que calcula el perímetro\n",
    "\n",
    "}\n",
    "\n",
    "// Implementa una clase para los triángulos que extienda la clase figura\n",
    "\n",
    "\n",
    "// Prueba las tres clases y sus métodos"
   ]
  },
  {
   "cell_type": "markdown",
   "metadata": {
    "id": "793IcsdtcX23"
   },
   "source": [
    "En este ejemplo, la clase abstracta `Figura` define un método abstracto `calcularArea()`, que debe ser implementado por cualquier subclase como `Circulo` y `Rectangulo`. Esto permite trabajar con el concepto general de una \"figura\" sin conocer los detalles específicos de su forma."
   ]
  },
  {
   "cell_type": "markdown",
   "metadata": {},
   "source": [
    "## Ejercicio\n",
    "\n",
    "::::{admonition} Taller 2\n",
    "\n",
    "\n",
    "1. **Ejercicio 1: Creación de Clases y Objetos**\n",
    "   \n",
    "- Crear una clase para algo que te guste mucho (película, carros, motos, anime, música, etc) y agrega al menos 5 atributos relacionados. Implementar métodos para establecer y obtener estos valores.\n",
    "  \n",
    "- Crear una subclase que herede de los atributos y métodos de la clase creada anteriormente. Además, añada un método que imprima un mensaje utilizando los atributos definidos.\n",
    "  \n",
    "1. **Ejercicio 2: Uso de Herencia y Polimorfismo**\n",
    "   \n",
    "- Crear la clase `Licores` con un al menos 5 atributos y dos métodos: uno debe ser `PrecioPorPersona(NoPersonas)` y otro que inventes.\n",
    "\n",
    "- Crear 3 clases derivadas: `Pola`, `Rones`, y otra que te guste, tales  que sobrescriban los método `PrecioPorPersona(NoPersonas)` y el que agregaste. Implementar una clase de prueba para demostrar el polimorfismo.\n",
    "::::\n"
   ]
  },
  {
   "cell_type": "markdown",
   "metadata": {},
   "source": [
    "## Recursos Adicionales\n",
    "\n",
    "### Guías y Tutoriales\n",
    "  - [Guía oficial de Oracle sobre Programación Orientada a Objetos en Java](https://docs.oracle.com/javase/tutorial/java/concepts/index.html)\n",
    "  - [Tutorial sobre POO en Java de GeeksforGeeks](https://www.geeksforgeeks.org/object-oriented-programming-oops-concept-in-java/)\n",
    "\n",
    "### Videos\n",
    "\n",
    "- [Java Tutorial for Beginners ](https://www.youtube.com/watch?v=eIrMbAQSU34)\n",
    "- [Learn Java in One Video - 15-minute Crash Course ](https://www.youtube.com/watch?v=drQK8ciCAjY)\n",
    "- [Java Roadmap for 2024 ](https://www.youtube.com/watch?v=fO9HN3nvDLI)\n",
    "- [Java Tutorial for Beginners 2023 ](https://www.youtube.com/watch?v=BGTx91t8q50)"
   ]
  }
 ],
 "metadata": {
  "colab": {
   "provenance": []
  },
  "kernelspec": {
   "display_name": "Java",
   "language": "java",
   "name": "java"
  },
  "language_info": {
   "codemirror_mode": "java",
   "file_extension": ".jshell",
   "mimetype": "text/x-java-source",
   "name": "java",
   "pygments_lexer": "java",
   "version": "21.0.4+7-Ubuntu-1ubuntu224.04"
  }
 },
 "nbformat": 4,
 "nbformat_minor": 0
}
