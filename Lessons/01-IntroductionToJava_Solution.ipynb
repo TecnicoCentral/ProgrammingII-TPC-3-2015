{
 "cells": [
  {
   "cell_type": "markdown",
   "metadata": {},
   "source": [
    "# Solución\n"
   ]
  },
  {
   "cell_type": "markdown",
   "metadata": {},
   "source": [
    "Primero importemos algunas librerias y definamos algunas variables de que serán usadas por las funciones de cada punto"
   ]
  },
  {
   "cell_type": "code",
   "execution_count": 9,
   "metadata": {},
   "outputs": [
    {
     "name": "stdout",
     "output_type": "stream",
     "text": [
      "Ingresa un número: \n",
      "\n",
      "Ingresaste el número 45.\n"
     ]
    }
   ],
   "source": [
    "import java.time.LocalDate;\n",
    "import java.util.Scanner; \n",
    "\n",
    "String name = \"Sebastian\";\n",
    "LocalDate date = java.time.LocalDate.now();\n",
    "\n",
    "//Scanner myObj = new Scanner(System.in);  // Create a Scanner object\n",
    "String number = \"45\"; \n",
    "System.out.println(\"Ingresa un número: \");\n",
    "//String number = myObj.nextLine();      // Read user input\n",
    "// System.out.printf(\"%nIngresaste el número %s.\", number)\n",
    "System.out.println(\"%nIngresaste el número %s.\".formatted(number))\n",
    "//int porcentaje_numero = Integer.parseInt(number);"
   ]
  },
  {
   "cell_type": "markdown",
   "metadata": {},
   "source": [
    "## Primer Punto\n",
    "\n",
    "Crea un Notebook en VSC con el kernel de java donde se muestren las operaciones entre caracteres, cuerdas (string), y números (int, float, double, etc). Además agrega el código de la clase \"HelloWorld\" que ya hemos creado pero personaliza el texto. Deben ser por lo menos 7 ejemplos."
   ]
  },
  {
   "cell_type": "code",
   "execution_count": 99,
   "metadata": {},
   "outputs": [
    {
     "name": "stdout",
     "output_type": "stream",
     "text": [
      "Olá, SEBASTIAN, como você está hoje (2024-11-17)?\n",
      "La suma entre 13 y 5 es 18\n",
      "El modulo de 13,220000 y 2 es 3\n"
     ]
    }
   ],
   "source": [
    "System.out.println(\"Olá, %S, como você está hoje (%s)? %n\".formatted(name, date));\n",
    "System.out.println(\"La suma entre %d y %d es %d %n\".formatted(13, 5, 13+5));\n",
    "System.out.println(\"El modulo de %f y %d es %d %n\".formatted(13.22f, 2, 13%5));"
   ]
  },
  {
   "cell_type": "markdown",
   "metadata": {},
   "source": [
    "## Segundo Punto\n",
    "\n",
    "Utilizando el código del punto anterior, crea una clase (asígnale un nombre diferente) donde se imprima por lo menos 7 variables con los ejemplos del primer punto. "
   ]
  },
  {
   "cell_type": "code",
   "execution_count": 11,
   "metadata": {},
   "outputs": [],
   "source": [
    "// Agregar código aquí"
   ]
  },
  {
   "cell_type": "markdown",
   "metadata": {},
   "source": [
    "## Tercer Punto\n",
    "\n",
    "Crea una clase llamada Porcentaje que dado un número entero imprima el número con signo de porcentaje seguido de la misma cantidad de símbolos #, es decir, dado el número 27 la clase debe imprimir:\n",
    "\n",
    "```bash\n",
    "27%: ###########################\n",
    "77%: #############################################################################\n",
    "```"
   ]
  },
  {
   "cell_type": "code",
   "execution_count": 102,
   "metadata": {},
   "outputs": [
    {
     "name": "stdout",
     "output_type": "stream",
     "text": [
      "  45 %: #############################################\n",
      "  22 %: ######################\n",
      "   5 %: #####\n"
     ]
    }
   ],
   "source": [
    "class Porcentaje{\n",
    "  public void Imprimir(String number){\n",
    "    int porcentaje = Integer.parseInt(number);\n",
    "    if (porcentaje>=0 && porcentaje<=100) {\n",
    "      System.out.print(\"%d %%: %s%n\".formatted(porcentaje, \"#\".repeat(porcentaje))+\n",
    "                       \"%d %%: %s%n\".formatted(porcentaje/2, \"#\".repeat(porcentaje/2))+\n",
    "                       \"% 2d %%: %s%n\".formatted(porcentaje/8, \"#\".repeat(porcentaje/8)));\n",
    "    } \n",
    "    else{\n",
    "      System.out.println(\"¡ERROR!: Intenta de nuevo, el número que ingresaste no esta en el rango de 0 a 100.\");\n",
    "    }    \n",
    "  } \n",
    "}\n",
    "\n",
    "Porcentaje porcentaje = new Porcentaje();\n",
    "porcentaje.Imprimir(number);"
   ]
  },
  {
   "cell_type": "markdown",
   "metadata": {},
   "source": [
    "Creación del objeto y ejecución del método"
   ]
  },
  {
   "cell_type": "code",
   "execution_count": null,
   "metadata": {},
   "outputs": [],
   "source": []
  },
  {
   "cell_type": "markdown",
   "metadata": {},
   "source": [
    "## Cuarto Punto\n",
    "\n",
    "Crea una clase llamada Impresiones donde se impriman varias variables en diferentes formatos, utilizando el método `Format()` de Java. Revisa las dos últimas referencias de guías y documentos. Escribe por lo menos 7 ejemplos.\n"
   ]
  },
  {
   "cell_type": "code",
   "execution_count": 13,
   "metadata": {},
   "outputs": [
    {
     "name": "stdout",
     "output_type": "stream",
     "text": [
      "  Cinco decimales: 3,14159\n",
      "  No decimales: 3\n",
      "  Hexadecimal de 255 es: ff\n",
      "  Notación cientifica con 3 digitos: 2,72e+00\n",
      "  Padded number (agregando 0s a la izquierda): 00420\n",
      "  Date: 17-11-2024\n",
      "  ¿Hoy tendras un buen día?: true\n"
     ]
    }
   ],
   "source": [
    "String string1 = String.format(\"Cinco decimales: %.5f\", Math.PI);\n",
    "System.out.println(string1);\n",
    "\n",
    "// No decimales\n",
    "String string2 = String.format(\"No decimales: %.0f\", Math.PI);\n",
    "System.out.println(string2);\n",
    "\n",
    "// Números hexadecimales\n",
    "String string3 = String.format(\"Hexadecimal de %d es: %x\", 255, 255);\n",
    "System.out.println(string3);\n",
    "\n",
    "// Notación cientifica con 3 digitos\n",
    "String string4 = String.format(\"Notación cientifica con 3 digitos: %.2e\", Math.E);\n",
    "System.out.println(string4);\n",
    "\n",
    "// Número con 7 espacios al inicio \n",
    "String string5 = String.format(\"Padded number (agregando 0s a la izquierda): %05d\", 420);\n",
    "System.out.println(string5);\n",
    "\n",
    "// Imprimiendo fechas\n",
    "String string6 = String.format(\"Date: %1$td-%1$tm-%1$tY\", date);\n",
    "System.out.println(string6);\n",
    "\n",
    "// Imprimiendo bolean\n",
    "String string7 = String.format(\"¿Hoy tendras un buen día?: %b\", true);\n",
    "System.out.println(string7); "
   ]
  },
  {
   "cell_type": "markdown",
   "metadata": {},
   "source": [
    "## Quinto Punto"
   ]
  },
  {
   "cell_type": "code",
   "execution_count": 14,
   "metadata": {},
   "outputs": [
    {
     "name": "stdout",
     "output_type": "stream",
     "text": [
      "  45,000 C° son 7,222 °F \n",
      "\n",
      "  45,000 F° son 113,000 °C \n",
      "\n"
     ]
    }
   ],
   "source": [
    "double temperatura = Double.parseDouble(number);\n",
    "\n",
    "double celcius = (temperatura-32)*5/9;\n",
    "System.out.println(\"%.3f C° son %.3f °F %n\".formatted(temperatura, celcius));\n",
    "\n",
    "double fahrenheit = temperatura*9/5+32;\n",
    "System.out.println(\"%.3f F° son %.3f °C %n\".formatted(temperatura, fahrenheit));"
   ]
  },
  {
   "cell_type": "markdown",
   "metadata": {},
   "source": [
    "## Todo en una Sola Clase\n",
    "\n",
    "Aca se colocaran todos los puntos en una misma clase, como ya esta definida la clase `Porcentaje` no es necesario volverla a escribir porque el notebook guarda esa información, sin embargo la agregaremos para que quede el archivo completo. Recuerden que en un archivo se pueden colocar varias clases, esta misma solución es guardada en el archivo <a href=\"../Codes/Taller1.java\">Taller1.java</a>, el cual pueden ejecutar desde cualquier IDE o desde la terminal utilizando:\n",
    "\n",
    "```bash\n",
    "javac Taller1.java # compilar\n",
    "java Taller1       # ejecutar\n",
    "```"
   ]
  },
  {
   "cell_type": "markdown",
   "metadata": {},
   "source": [
    "### 1. Creación de la clase:"
   ]
  },
  {
   "cell_type": "code",
   "execution_count": null,
   "metadata": {},
   "outputs": [],
   "source": [
    "import java.util.Scanner; \n",
    "import java.time.LocalDate;\n",
    "\n",
    "class Taller1{\n",
    "  private String name = \"Sebastian\";\n",
    "  private LocalDate date = java.time.LocalDate.now();\n",
    "  \n",
    "  public static void main(String[] args){\n",
    "\n",
    "    Scanner myObj = new Scanner(System.in);  // Create a Scanner object\n",
    "    System.out.println(\"Ingresa un número: \");\n",
    "    String number = \"25\";//myObj.nextLine();        // Read user input\n",
    "    System.out.println(\"Número ingresado: %s\".formatted(number));\n",
    "    \n",
    "    // 1ero\n",
    "    new Taller1().PrimerPunto();\n",
    "\n",
    "    // 2do\n",
    "    System.out.println(\"2DO PUNTO:\");\n",
    "    // No implementado\n",
    "\n",
    "    // 3ro\n",
    "    new Taller1().TercerPunto(number);\n",
    "    // new Taller1().TercerPunto(Integer.parseInt(args[0])); // using the args variable\n",
    "\n",
    "    // // 4to\n",
    "    new Taller1().CuartoPunto();\n",
    "\n",
    "    // // 5to\n",
    "    new Taller1().QuintoPunto(Double.parseDouble(number));\n",
    "    //new Taller1().QuintoPunto(Double.parseDouble(args[0]));\n",
    "  }\n",
    "\n",
    "  public void PrimerPunto(){\n",
    "    System.out.print(\"\"\"\n",
    "    1ER PUNTO:\n",
    "        Olá, %S, como você está hoje (%s)?\n",
    "        La suma entre %d y %d es %d\n",
    "        El modulo de %f y %d es %d\n",
    "        \"\"\".formatted(name, date,  13, 5, 13+5,  13.22f, 2, 13%5));\n",
    "  }\n",
    "\n",
    "  public void TercerPunto(String porcentaje){\n",
    "    new Porcentaje().Imprimir(porcentaje);\n",
    "  }\n",
    "\n",
    "  public void CuartoPunto(){\n",
    "    // Imprimiendo fechas\n",
    "    String string_date = \"  Date: %1$td-%1$tm-%1$tY%n\".formatted(date);\n",
    "    System.out.print(\"\"\"\n",
    "      4TO PUNTO:\n",
    "        Cinco decimales: %.5f\n",
    "        No decimales: %.0f\n",
    "        Hexadecimal de %d es: %x\n",
    "        Notación cientifica con 3 digitos: %.2e\n",
    "        Padded number (agregando 0s a la izquierda): %05d\n",
    "        ¿Hoy tendras un buen día?: %b\n",
    "        \"\"\".formatted(Math.PI,   // Cinco decimales\n",
    "                      Math.PI,   // No decimales\n",
    "                      255, 255,  // Números hexadecimales\n",
    "                      Math.E,    // Notación cientifica con 3 digitos\n",
    "                      420,       // Número con 7 espacios al inicio \n",
    "                      true)+string_date);    // Imprimiendo bolean\n",
    "  }\n",
    "\n",
    "  public void QuintoPunto(double temperatura){\n",
    "    double celcius = (temperatura-32)*5/9;\n",
    "    double fahrenheit = temperatura*9/5+32;\n",
    "\n",
    "    System.out.print(\"\"\"\n",
    "    5TO PUNTO:\n",
    "      %.3f C° son %.3f °F \n",
    "      %.3f F° son %.3f °C\n",
    "        \"\"\".formatted(temperatura, celcius,\n",
    "                      temperatura, fahrenheit));\n",
    "  }\n",
    "}\n",
    "\n",
    "class Porcentaje{\n",
    "  public void Imprimir(String number){\n",
    "    int porcentaje = Integer.parseInt(number);\n",
    "    if (porcentaje>=0 && porcentaje<=100) {\n",
    "      System.out.print(\"3ER PUNTO:\\n\"+\n",
    "                       \"%d %%: %s%n\".formatted(porcentaje, \"#\".repeat(porcentaje))+\n",
    "                       \"%d %%: %s%n\".formatted(porcentaje/2, \"#\".repeat(porcentaje/2))+\n",
    "                       \"% 2d %%: %s%n\".formatted(porcentaje/8, \"#\".repeat(porcentaje/8)));\n",
    "      \n",
    "    } \n",
    "    else{\n",
    "      System.out.println(\"  ¡ERROR!: Intenta de nuevo, el número que ingresaste no esta en el rango de 0 a 100.\");\n",
    "    }\n",
    "    \n",
    "  } \n",
    "}"
   ]
  },
  {
   "cell_type": "markdown",
   "metadata": {},
   "source": [
    "### 2. Creación del objeto y ejecución del método"
   ]
  },
  {
   "cell_type": "code",
   "execution_count": 98,
   "metadata": {},
   "outputs": [
    {
     "name": "stdout",
     "output_type": "stream",
     "text": [
      "Ingresa un número: \n",
      "Número ingresado: 25\n",
      "1ER PUNTO:\n",
      "    Olá, SEBASTIAN, como você está hoje (2024-11-17)?\n",
      "    La suma entre 13 y 5 es 18\n",
      "    El modulo de 13,220000 y 2 es 3\n",
      "2DO PUNTO:\n",
      "3ER PUNTO:\n",
      "25 %: #########################\n",
      "12 %: ############\n",
      "03 %: ###\n",
      "4TO PUNTO:\n",
      "  Cinco decimales: 3,14159\n",
      "  No decimales: 3\n",
      "  Hexadecimal de 255 es: ff\n",
      "  Notación cientifica con 3 digitos: 2,72e+00\n",
      "  Padded number (agregando 0s a la izquierda): 00420\n",
      "  ¿Hoy tendras un buen día?: true\n",
      "  Date: 17-11-2024\n",
      "5TO PUNTO:\n",
      "  25,000 C° son -3,889 °F\n",
      "  25,000 F° son 77,000 °C\n"
     ]
    }
   ],
   "source": [
    "Taller1 taller1 = new Taller1();\n",
    "taller1.main(new String[] {});"
   ]
  }
 ],
 "metadata": {
  "kernelspec": {
   "display_name": "Java",
   "language": "java",
   "name": "java"
  },
  "language_info": {
   "codemirror_mode": "java",
   "file_extension": ".jshell",
   "mimetype": "text/x-java-source",
   "name": "java",
   "pygments_lexer": "java",
   "version": "21.0.5+11-Ubuntu-1ubuntu124.04"
  }
 },
 "nbformat": 4,
 "nbformat_minor": 2
}
