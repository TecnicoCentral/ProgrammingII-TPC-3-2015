{
 "cells": [
  {
   "cell_type": "markdown",
   "metadata": {},
   "source": [
    "# Clases e Interfaces"
   ]
  },
  {
   "cell_type": "markdown",
   "metadata": {},
   "source": [
    "## Objetivo\n",
    "\n",
    "Proporcionar a los estudiantes una comprensión sólida de los conceptos de objetos, interfaces y clases abstractas en Java. Los estudiantes aprenderán cómo utilizar estos elementos para diseñar software modular, flexible y mantenible. Al finalizar, los estudiantes serán capaces de diferenciar entre clases concretas, abstractas e interfaces, y aplicarlos en la creación de aplicaciones Java.\n",
    "\n"
   ]
  },
  {
   "cell_type": "markdown",
   "metadata": {},
   "source": [
    "## Clases Abstractas en Java\n",
    "\n",
    ">Una clase abstracta no puede utilizarse para crear objetos. Una clase abstracta puede contener métodos abstractos que se implementan en subclases concretas.\n",
    "\n",
    "Las clases abstractas en Java son clases que no pueden ser instanciadas directamente y están diseñadas para ser extendidas por otras clases. Estas clases pueden contener tanto métodos abstractos (sin implementación) como métodos concretos (con implementación). Las clases abstractas permiten la creación de una jerarquía de clases con comportamiento común.\n",
    "\n",
    "### Definición\n",
    "  - Una clase abstracta se define utilizando la palabra clave `abstract`.\n",
    "  - Las clases hijas deben proporcionar la implementación de todos los métodos abstractos de la clase padre.\n"
   ]
  },
  {
   "cell_type": "code",
   "execution_count": 3,
   "metadata": {
    "vscode": {
     "languageId": "java"
    }
   },
   "outputs": [],
   "source": [
    "abstract class Animal {\n",
    "  String name;\n",
    "  abstract void hacerSonido(); // Método abstracto\n",
    "  \n",
    "  public void dormir() {\n",
    "      System.out.println(\"El animal está durmiendo.\");\n",
    "  }\n",
    "}\n",
    "\n",
    "class Perro extends Animal {\n",
    "  public void hacerSonido() {\n",
    "      System.out.println(\"El perro ladra.\");\n",
    "  }\n",
    "}\n",
    "\n",
    "public class TestAnimal {\n",
    "  public static void main(String[] args) {\n",
    "      Animal perro = new Perro();\n",
    "      perro.hacerSonido();\n",
    "      perro.dormir();\n",
    "  }\n",
    "}\n",
    "\n",
    "// Agregue aquí su código"
   ]
  },
  {
   "cell_type": "code",
   "execution_count": 4,
   "metadata": {
    "vscode": {
     "languageId": "java"
    }
   },
   "outputs": [],
   "source": [
    "// Animal animal = new Animal()"
   ]
  },
  {
   "cell_type": "markdown",
   "metadata": {},
   "source": [
    "### Ejercicio Práctico\n",
    "  - Crear una clase abstracta `Figura` con un método abstracto `calcularArea`.\n",
    "  - Extender la clase abstracta con las clases `Circulo` y `Rectangulo`, proporcionando la implementación de `calcularArea` y `calcularPerimetro`.\n",
    "  - Instanciar objetos de `Circulo`, `Rectangulo`, `Triangulo`, y otro de gusto. Además, calcular sus áreas."
   ]
  },
  {
   "cell_type": "code",
   "execution_count": 5,
   "metadata": {
    "vscode": {
     "languageId": "java"
    }
   },
   "outputs": [],
   "source": [
    "// Agregue aquí su código"
   ]
  },
  {
   "cell_type": "markdown",
   "metadata": {},
   "source": [
    "## Interfaces en Java\n",
    "\n",
    ">Una interfaz es una construcción similar a una clase para definir operaciones comunes para objetos.\n",
    "\n",
    "Las interfaces en Java son contratos que definen un conjunto de métodos que una clase debe implementar. A diferencia de las clases, las interfaces no pueden contener implementación de métodos (antes de Java 8) y no pueden tener atributos no finales. Son utilizadas para asegurar que una clase cumple con ciertos requisitos de comportamiento, independientemente de la jerarquía de herencia.\n",
    "\n",
    "### Definición\n",
    "  - Una interfaz se define utilizando la palabra clave `interface`.\n",
    "  - Las clases que implementan una interfaz deben proporcionar la implementación concreta de todos sus métodos."
   ]
  },
  {
   "cell_type": "code",
   "execution_count": 6,
   "metadata": {
    "vscode": {
     "languageId": "java"
    }
   },
   "outputs": [
    {
     "name": "stdout",
     "output_type": "stream",
     "text": [
      "El pájaro está volando.Volador\n"
     ]
    }
   ],
   "source": [
    "interface Volador {\n",
    "  public String name = \"Volador\";\n",
    "  void volar(); // Método abstracto\n",
    "}\n",
    "\n",
    "class Pajaro implements Volador {\n",
    "  public void volar() {\n",
    "      System.out.println(\"El pájaro está volando.\"+ name);\n",
    "  }\n",
    "}\n",
    "\n",
    "public class Main {\n",
    "  public static void main(String[] args) {\n",
    "      Volador pajaro = new Pajaro();\n",
    "      pajaro.volar();\n",
    "      //pajaro.name;\n",
    "  }\n",
    "}\n",
    "\n",
    "// Agregue aquí su código\n",
    "Main main = new Main();\n",
    "main.main(new String[] {});"
   ]
  },
  {
   "cell_type": "code",
   "execution_count": 7,
   "metadata": {
    "vscode": {
     "languageId": "java"
    }
   },
   "outputs": [],
   "source": [
    "// Volador vol = new Volador()"
   ]
  },
  {
   "cell_type": "markdown",
   "metadata": {},
   "source": [
    "### Ejercicio Práctico\n",
    "\n",
    "- Crear una interfaz `Comible` con un método `comer`.\n",
    "- Implementar la interfaz en una clase `Ensalada`, `Pasta`, etc.\n",
    "- Crear un objeto de `Ensalada` y demostrar el uso de la interfaz `Comible`."
   ]
  },
  {
   "cell_type": "code",
   "execution_count": 8,
   "metadata": {
    "vscode": {
     "languageId": "java"
    }
   },
   "outputs": [],
   "source": [
    "// Agregue aquí su código\n"
   ]
  },
  {
   "cell_type": "markdown",
   "metadata": {},
   "source": [
    "## Clase Abstracta vs Interfaz\n",
    "\n",
    "Las clases abstractas son similares a las interfaces. No se pueden instanciar y pueden contener una mezcla de métodos declarados con o sin implementación. Sin embargo, con las clases abstractas puedes declarar campos que no sean static y final, y definir métodos concretos públicos, protegidos y privados. Con las interfaces, todos los campos son automáticamente públicos, estáticos y finales, y todos los métodos que declares o definas (como métodos por defecto) son públicos. Además, sólo puedes extender una clase, sea abstracta o no, mientras que puedes implementar cualquier número de interfaces.\n",
    "\n",
    "¿Qué debe utilizar, clases abstractas o interfaces?\n",
    "\n",
    "- Considere el uso de clases abstractas si alguna de estas afirmaciones se aplica a su situación:\n",
    "    - Desea compartir código entre varias clases estrechamente relacionadas.\n",
    "    - Esperas que las clases que extienden tu clase abstracta tengan muchos métodos o campos comunes, o requieran modificadores de acceso distintos de public (como protected y private).\n",
    "    - Desea declarar campos no estáticos o no finales. Esto le permite definir métodos que pueden acceder y modificar el estado del objeto al que pertenecen.\n",
    "- Considere la posibilidad de utilizar interfaces si alguna de estas afirmaciones se aplica a su situación:\n",
    "    - Espera que clases no relacionadas implementen su interfaz. Por ejemplo, las interfaces Comparable y Clonable son implementadas por muchas clases no relacionadas.\n",
    "    - Desea especificar el comportamiento de un tipo de datos concreto, pero no le preocupa quién implementa su comportamiento.\n",
    "    - Desea aprovechar las ventajas de la herencia múltiple de tipo.\n",
    "\n",
    "<figure>\n",
    "  <img src=\"https://blogger.googleusercontent.com/img/b/R29vZ2xl/AVvXsEipR6QxqBdNIgDYt6dk9k-FxDvWr-1Jje2qpnd7aWIdwda_QUpJf2rtxFlP3KVIjqoD_jMcyuA4B8IvL50iib1E7MYQQotIwwqfwaEyWkA6ks2U6JFE-rusytxAxrRA_HINc1tRus21Fe0/w483-h273/interfaces_vs_abstract_Class_Java.png\" alt=\"Trulli\" style=\"width:50%\">\n",
    "  <figcaption>Tomado de <a href=\"https://docs.oracle.com/javase/tutorial/java/IandI/abstract.html\">Abstract Methods and Classes</a> </figcaption>\n",
    "</figure> \n",
    "\n",
    "<figure>\n",
    "  <img src=\"../images/abstractinterface.png\"  width=\"80%\">\n",
    "  <figcaption>Tomado de <a href=\"https://www.java67.com/2017/08/difference-between-abstract-class-and-interface-in-java8.html\">Difference between Abstract class and Interface in Java 8? Answer</a> </figcaption>\n",
    "</figure> \n",
    "\n",
    "[Why not override instead of using abstract class?](https://stackoverflow.com/questions/20790360/why-not-override-instead-of-using-abstract-class)"
   ]
  },
  {
   "cell_type": "markdown",
   "metadata": {},
   "source": [
    "## Ejercicio\n",
    "\n",
    "(taller2)=\n",
    "::::{admonition} Taller 2\n",
    "Diseñar un sistema de gestión para una librería utilizando objetos, interfaces y clases abstractas en Java.\n",
    "\n",
    "**Instrucciones**\n",
    "1. Crear una interfaz `GestiónProducto` con métodos como `vender` y `mostrarDetalles`.\n",
    "2. Crear una clase abstracta `Producto` que implemente la interfaz y añada un método abstracto `calcularPrecio`.\n",
    "3. Extender `Producto` en clases concretas como `Libro`, `Revista`, y `CD`, implementando los métodos abstractos y específicos para cada tipo de producto.\n",
    "4. Crear un programa principal donde se instancien los objetos y se demuestren sus comportamientos, como vender productos y mostrar sus detalles.\n",
    "\n",
    "**Entregables**\n",
    "- Código fuente en Java que implementa el sistema de gestión de la librería.\n",
    "::::\n",
    "\n",
    "## Conclusión\n",
    "\n",
    "En esta clase, hemos explorado tres conceptos fundamentales en Java: objetos, interfaces y clases abstractas. Cada uno de estos elementos juega un papel crucial en la programación orientada a objetos, permitiendo la creación de software más modular y adaptable. Los objetos encapsulan datos y comportamientos, las interfaces permiten definir contratos de comportamiento, y las clases abstractas proporcionan una estructura común para diferentes implementaciones. Comprender y aplicar correctamente estos conceptos es esencial para cualquier desarrollador de Java que busque crear aplicaciones robustas y escalables."
   ]
  },
  {
   "cell_type": "markdown",
   "metadata": {},
   "source": [
    "## Recursos Adicionales\n",
    "\n",
    "### Guías y Tutoriales\n",
    "  - [Abstract Classes in Java](https://www.baeldung.com/java-abstract-class)\n",
    "  - [Abstract class in Java](https://www.javatpoint.com/abstract-class-in-java)\n",
    "  - [Abstract class in Java](https://stackoverflow.com/questions/1320745/abstract-class-in-java)\n",
    "  - [How should I have explained the difference between an Interface and an Abstract class? [closed]](https://stackoverflow.com/questions/18777989/how-should-i-have-explained-the-difference-between-an-interface-and-an-abstract)\n",
    "  - [Using an Interface vs. Abstract Class in Java](https://www.baeldung.com/java-interface-vs-abstract-class)\n",
    "  - [Difference between Abstract Class and Interface in Java](https://www.digitalocean.com/community/tutorials/difference-between-abstract-class-and-interface-in-java)\n",
    "  - [Difference between abstract class and interface](https://www.javatpoint.com/difference-between-abstract-class-and-interface)\n",
    "\n",
    "### Videos\n",
    "\n",
    "- [Abstract Classes and Methods in Java Explained in 7 Minutes ](https://www.youtube.com/watch?v=HvPlEJ3LHgE)"
   ]
  }
 ],
 "metadata": {
  "colab": {
   "provenance": []
  },
  "kernelspec": {
   "display_name": "Java",
   "language": "java",
   "name": "java"
  },
  "language_info": {
   "codemirror_mode": "java",
   "file_extension": ".jshell",
   "mimetype": "text/x-java-source",
   "name": "Java",
   "pygments_lexer": "java",
   "version": "21.0.5+11-Ubuntu-1ubuntu124.04"
  }
 },
 "nbformat": 4,
 "nbformat_minor": 0
}
