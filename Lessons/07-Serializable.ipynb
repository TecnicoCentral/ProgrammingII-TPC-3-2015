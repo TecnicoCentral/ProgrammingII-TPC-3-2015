{
 "cells": [
  {
   "cell_type": "markdown",
   "metadata": {},
   "source": [
    "# Serialización\n",
    "\n",
    "## Introducción\n",
    "\n",
    "En el manejo de datos, es común encontrarse con la necesidad de guardar y recuperar información de manera eficiente. Para lograr esto, Java proporciona herramientas para **serialización** y manejo de **archivos**. La **serialización** permite convertir un objeto en una secuencia de bytes para almacenarlo o transmitirlo, mientras que el manejo de archivos permite leer y escribir datos de archivos en el sistema.\n",
    "\n",
    "Esta clase explorará en detalle los conceptos fundamentales de serialización, **deserialización**, y operaciones de archivos en Java, proporcionando ejemplos prácticos para entender su funcionamiento.\n",
    "\n",
    "## Objetivos\n",
    "\n",
    "1. Comprender el concepto de **serialización** en Java y su importancia en el almacenamiento y transmisión de objetos.\n",
    "2. Aplicar operaciones de **serialización** y **deserialización** en objetos de Java.\n",
    "3. Entender el manejo de **archivos** en Java, incluyendo la lectura y escritura de archivos.\n",
    "4. Implementar ejemplos prácticos que combinen la serialización y manejo de archivos en Java.\n"
   ]
  },
  {
   "cell_type": "markdown",
   "metadata": {},
   "source": [
    "## Serialización en Java\n",
    "\n",
    "La **serialización** es el proceso de convertir un objeto en una secuencia de bytes, lo que permite que se almacene o se envíe a través de una red. En Java, para que un objeto sea serializable, la clase debe implementar la interfaz `Serializable`.\n",
    "\n",
    "No todos los objetos pueden escribirse en un flujo de salida. Los objetos que pueden ser escritos se dice que son serializables. Un objeto serializable es una instancia de la interfaz java.io.Serializable, por lo que la clase del objeto debe implementar Serializable.\n",
    "\n",
    "La interfaz Serializable es una interfaz marcadora. Como no tiene métodos, no necesitas añadir código adicional en tu clase que implemente Serializable. La implementación de esta interfaz permite que el mecanismo de serialización de Java para automatizar el proceso de almacenamiento de objetos y matrices.\n",
    "\n",
    "**Clases y Objetos**\n",
    "\n",
    "<figure>\n",
    "  <img src=\"../images/Figure17.3.png\" alt=\"\" style=\"width:100%\">\n",
    "  <figcaption></figcaption>\n",
    "</figure> \n",
    "\n",
    "<figure>\n",
    "  <img src=\"../images/Figure17.17.png\" alt=\"\" style=\"width:100%\">\n",
    "  <figcaption></figcaption>\n",
    "</figure> \n"
   ]
  },
  {
   "cell_type": "code",
   "execution_count": 38,
   "metadata": {},
   "outputs": [],
   "source": [
    "import java.io.*;\n",
    "public class TestObjectOutputStream {\n",
    "  public static void main(String[] args) throws IOException {\n",
    "    try ( // Create an output stream for file object.dat\n",
    "      ObjectOutputStream output = new ObjectOutputStream(new FileOutputStream(\"object.dat\"));\n",
    "      // Se puede reemplazar y mejorar el rendimiento con\n",
    "      // ObjectOutputStream output = new ObjectOutputStream(new BufferedOutputStream(new FileOutputStream(\"object.dat\")));\n",
    "    ) {\n",
    "      // Write a string, double value, and object to the file\n",
    "      output.writeUTF(\"John\");\n",
    "      output.writeDouble(85.5);\n",
    "      output.writeObject(new java.util.Date());\n",
    "    }\n",
    "  }\n",
    "}"
   ]
  },
  {
   "cell_type": "markdown",
   "metadata": {},
   "source": [
    "### Ejemplo básico de serialización"
   ]
  },
  {
   "cell_type": "code",
   "execution_count": 39,
   "metadata": {},
   "outputs": [],
   "source": [
    "import java.io.*;\n",
    "\n",
    "// Clase que implementa Serializable\n",
    "class Persona implements Serializable {\n",
    "    private String nombre;\n",
    "    private int edad;\n",
    "\n",
    "    public Persona(String nombre, int edad) {\n",
    "        this.nombre = nombre;\n",
    "        this.edad = edad;\n",
    "    }\n",
    "\n",
    "    @Override\n",
    "    public String toString() {\n",
    "        return \"Nombre: \" + nombre + \", Edad: \" + edad;\n",
    "    }\n",
    "}\n",
    "\n",
    "public class SerializacionEjemplo {\n",
    "    public static void main(String[] args) {\n",
    "        Persona persona = new Persona(\"Juan\", 30);\n",
    "\n",
    "        // Serializar el objeto\n",
    "        try (ObjectOutputStream oos = new ObjectOutputStream(new FileOutputStream(\"persona.ser\"))) {\n",
    "            oos.writeObject(persona);\n",
    "            System.out.println(\"Objeto serializado correctamente.\");\n",
    "        } catch (IOException e) {\n",
    "            e.printStackTrace();\n",
    "        }\n",
    "    }\n",
    "}"
   ]
  },
  {
   "cell_type": "markdown",
   "metadata": {},
   "source": [
    "En este ejemplo, la clase `Persona` implementa `Serializable`, lo que permite que los objetos de esa clase puedan ser serializados. El archivo `persona.ser` contendrá la información del objeto en formato de bytes."
   ]
  },
  {
   "cell_type": "code",
   "execution_count": 40,
   "metadata": {},
   "outputs": [],
   "source": [
    "// Prueba el texto aquí"
   ]
  },
  {
   "cell_type": "markdown",
   "metadata": {},
   "source": [
    "Para verificar su impacto en otro tipo de objetos que contienen elementos de diferente tipo de dato (arreglos, pilas, colas, etc) probemos la serialización de listas.\n",
    "\n",
    "Implementa y prueba el código **Listing 17.7 TestObjectStreamForArray.java** del libro guía, página dccxxxiii o 710."
   ]
  },
  {
   "cell_type": "code",
   "execution_count": 41,
   "metadata": {},
   "outputs": [],
   "source": [
    "// Implementa la clase TestObjectStreamForArray"
   ]
  },
  {
   "cell_type": "markdown",
   "metadata": {},
   "source": [
    "## Deserialización en Java\n",
    "\n",
    "La **deserialización** es el proceso inverso de la serialización, donde una secuencia de bytes se convierte de nuevo en un objeto Java.\n",
    "\n",
    "<figure>\n",
    "  <img src=\"../images/Figure17.16.png\" alt=\"\" style=\"width:100%\">\n",
    "  <figcaption></figcaption>\n",
    "</figure> "
   ]
  },
  {
   "cell_type": "code",
   "execution_count": 42,
   "metadata": {},
   "outputs": [],
   "source": [
    "import java.io.*;\n",
    "public class TestObjectInputStream {\n",
    "  public static void main(String[] args)\n",
    "  throws ClassNotFoundException, IOException {\n",
    "    try ( // Create an input stream for file object.dat\n",
    "      ObjectInputStream input = new ObjectInputStream(new FileInputStream(\"object.dat\"));\n",
    "    ) {\n",
    "      // Read a string, double value, and object from the file\n",
    "      String name = input.readUTF();\n",
    "      double score = input.readDouble();\n",
    "      java.util.Date date = (java.util.Date)(input.readObject());\n",
    "      System.out.println(name + \" \" + score + \" \" + date);\n",
    "    }\n",
    "  }\n",
    "}"
   ]
  },
  {
   "cell_type": "markdown",
   "metadata": {},
   "source": [
    "### Ejemplo básico de deserialización"
   ]
  },
  {
   "cell_type": "code",
   "execution_count": 43,
   "metadata": {},
   "outputs": [],
   "source": [
    "import java.io.*;\n",
    "\n",
    "public class DeserializacionEjemplo {\n",
    "    public static void main(String[] args) {\n",
    "        // Deserializar el objeto\n",
    "        try (ObjectInputStream ois = new ObjectInputStream(new FileInputStream(\"persona.ser\"))) {\n",
    "            Persona persona = (Persona) ois.readObject();\n",
    "            System.out.println(\"Objeto deserializado: \" + persona);\n",
    "        } catch (IOException | ClassNotFoundException e) {\n",
    "            e.printStackTrace();\n",
    "        }\n",
    "    }\n",
    "}"
   ]
  },
  {
   "cell_type": "markdown",
   "metadata": {},
   "source": [
    "En este ejemplo, el archivo `persona.ser` se lee y el objeto `persona` se reconstruye a partir de los bytes guardados."
   ]
  },
  {
   "cell_type": "markdown",
   "metadata": {},
   "source": [
    "## DataInputStream/DataOutputStream\n",
    "\n",
    "`DataInputStream` lee bytes del flujo y los convierte en valores de tipo primitivo o cadenas. `DataOutputStream` convierte valores de tipo primitivo o cadenas en bytes y envía los bytes al flujo.\n",
    "\n",
    "`DataInputStream` extiende `FilterInputStream` e implementa la interfaz `DataInput`. `DataOutputStream` extiende` FilterOutputStream` e implementa la interfaz `DataOutput`.\n",
    "\n",
    "<figure>\n",
    "  <img src=\"../images/Figure17.9.png\" alt=\"\" style=\"width:100%\">\n",
    "  <figcaption></figcaption>\n",
    "</figure> \n",
    "\n",
    "\n",
    "<figure>\n",
    "  <img src=\"../images/Figure17.10.png\" alt=\"\" style=\"width:100%\">\n",
    "  <figcaption></figcaption>\n",
    "</figure> \n",
    "\n",
    "\n",
    "<figure>\n",
    "  <img src=\"../images/Figure17.11.png\" alt=\"\" style=\"width:100%\">\n",
    "  <figcaption></figcaption>\n",
    "</figure> "
   ]
  },
  {
   "cell_type": "code",
   "execution_count": 44,
   "metadata": {},
   "outputs": [],
   "source": [
    "// Prueba el texto aquí"
   ]
  },
  {
   "cell_type": "markdown",
   "metadata": {},
   "source": [
    "## E/S de Texto vs a E/S Binaria\n",
    "\n",
    ">La E/S binaria no implica codificación ni descodificación, por lo que es más eficiente que la E/S de texto.\n",
    "\n",
    "Los ordenadores no distinguen entre archivos binarios y archivos de texto. Todos los archivos se almacenan en formato binario y, por tanto, todos los archivos son esencialmente binarios. La E/S de texto se basa en la E/S binaria para proporcionar un nivel de abstracción para la codificación y descodificación de caracteres. La codificación y descodificación se realizan automáticamente para la E/S de texto.\n",
    "\n",
    "<div align=\"center\">\n",
    "  <img src=\"\" width=80%>\n",
    "</div>\n",
    "\n",
    ">La clase abstracta `InputStream` es la clase raíz para la lectura de datos binarios, y la clase abstracta `OutputStream` es la clase raíz para escribir datos binarios.\n",
    "\n",
    "El diseño de las clases de E/S de Java es un buen ejemplo de aplicación de la herencia, donde las operaciones comunes se generalizan en superclases, y las subclases proporcionan operaciones especializadas.\n",
    "\n",
    "<div align=\"center\">\n",
    "  <img src=\"\" width=80%>\n",
    "</div>\n",
    "\n"
   ]
  },
  {
   "cell_type": "code",
   "execution_count": 45,
   "metadata": {},
   "outputs": [],
   "source": [
    "import java.io.*;\n",
    "public class TestDataStream {\n",
    "  public static void main(String[] args) throws IOException {\n",
    "    try ( // Create an output stream for file temp.dat\n",
    "      DataOutputStream output = new DataOutputStream(new FileOutputStream(\"temp.dat\"));\n",
    "    ) {\n",
    "      // Write student test scores to the file\n",
    "      output.writeUTF(\"John\");\n",
    "      output.writeDouble(85.5);\n",
    "      output.writeUTF(\"Susan\");\n",
    "      output.writeDouble(185.5);\n",
    "      output.writeUTF(\"Kim\");\n",
    "      output.writeDouble(105.25);\n",
    "    }\n",
    "    try ( // Create an input stream for file temp.dat\n",
    "    DataInputStream input = new DataInputStream(new FileInputStream(\"temp.dat\"));\n",
    "    ) {\n",
    "      // Read student test scores from the file\n",
    "      System.out.println(input.readUTF() + \" \" + input.readDouble());\n",
    "      System.out.println(input.readUTF() + \" \" + input.readDouble());\n",
    "      System.out.println(input.readUTF() + \" \" + input.readDouble());\n",
    "    }\n",
    "  }\n",
    "}"
   ]
  },
  {
   "cell_type": "code",
   "execution_count": 46,
   "metadata": {},
   "outputs": [],
   "source": [
    "// Prueba el texto aquí"
   ]
  },
  {
   "cell_type": "markdown",
   "metadata": {},
   "source": [
    "## Ejercicio\n",
    "\n",
    "::::{admonition} Taller 5\n",
    "\n",
    "### Primera Parte\n",
    "\n",
    "Implementa un **proyecto de java** que resuelva el taller [FilesSerializationWorkshop.md](./FilesSerializationWorkshop.md). Coloca los mismos nombres a las clases y métodos siguiendo la guía. Realiza tantas clases como necesites y recuerda que el código de la página web puede ser creado desde ChatGPT.\n",
    "\n",
    "### Segunda Parte\n",
    "\n",
    "Implementa y prueba el código del libro guía, Y. Daniel, que copia archivos, código 17.4 `Copy.java.`. **Deben modificar la acción de la clase para que no sea la misma del libro, cambiar y agregar algunas líneas de código.**\n",
    "\n",
    "### Tercera Parte\n",
    "Implementa y prueba el código del libro guía, Y. Daniel, que implementa el Acceso aleatorio de archivos, código 17.8 `ImpTestRandomAccessFile.java`. **Deben modificar la acción de la clase para que no sea la misma del libro, cambiar y agregar algunas líneas de código.**\n",
    "\n",
    "::::"
   ]
  },
  {
   "cell_type": "markdown",
   "metadata": {},
   "source": [
    "## Conclusión\n",
    "\n",
    "La serialización y el manejo de archivos son fundamentales para el desarrollo de aplicaciones en Java que requieren persistencia y comunicación de datos. La **serialización** permite convertir objetos en secuencias de bytes, facilitando su almacenamiento en archivos o su transmisión a través de redes. Esta técnica es clave cuando se necesita mantener el estado de un objeto más allá de la ejecución de un programa. Por otro lado, el **manejo de archivos** permite leer y escribir datos desde y hacia archivos, lo cual es esencial para cualquier aplicación que interactúe con sistemas de almacenamiento. \n",
    "\n",
    "Dominar estas técnicas no solo mejora la capacidad de un programador para crear aplicaciones que gestionen datos de manera efectiva, sino que también le permite construir soluciones más robustas y eficientes, asegurando que los datos persistan entre ejecuciones y que puedan ser transferidos entre diferentes sistemas de forma segura y controlada.\n",
    "\n",
    "## Recursos Adicionales\n",
    "\n",
    "### Libros\n",
    "\n",
    "- Y. Daniel Liang. *\"Introduction to Java Programming and Data Structures, Comprehensive Version\"*. Addison Wesley. Edición 12 (2019). Capítulo 17.\n",
    "- Bloch, Joshua. *Effective Java*. Addison-Wesley, 2008.\n",
    "- Eckel, Bruce. *Thinking in Java*. Prentice Hall, 2006.\n",
    "\n",
    "\n",
    "### Guias y Tutoriales\n",
    "\n",
    "- [Tutorial 09: Java Stream I/O ](https://www.clear.rice.edu/comp212/00-fall/tutorials/09/io.html)\n",
    "- [BufferedReader and BufferedWriter](https://codegym.cc/groups/posts/bufferedreader-and-bufferedwriter)\n",
    "- [Serialization and Deserialization in Java - Javatpoint](https://www.javatpoint.com/serialization-in-java)\n",
    "- [Serialization in Java - Java Serialization - DigitalOcean](https://www.digitalocean.com/community/tutorials/serialization-in-java)\n",
    "- [Introduction to Java Serialization - Baeldung](https://www.baeldung.com/java-serialization)\n",
    "\n",
    "### Videos\n",
    "\n",
    "- [Serialization Explained in 3 minutes | Tech Primers ](https://www.youtube.com/watch?v=QOKlY37XpEA)\n",
    "- [SERIALIZABLE en JAVA - Tutorial Completo Fácil ](https://www.youtube.com/watch?v=EX0_plIjumM)"
   ]
  }
 ],
 "metadata": {
  "kernelspec": {
   "display_name": "Java",
   "language": "java",
   "name": "java"
  },
  "language_info": {
   "codemirror_mode": "java",
   "file_extension": ".jshell",
   "mimetype": "text/x-java-source",
   "name": "java",
   "pygments_lexer": "java",
   "version": "21.0.4+7-Ubuntu-1ubuntu224.04"
  }
 },
 "nbformat": 4,
 "nbformat_minor": 2
}
