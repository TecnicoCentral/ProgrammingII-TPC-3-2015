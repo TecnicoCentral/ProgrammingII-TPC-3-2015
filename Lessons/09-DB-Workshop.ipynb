{
 "cells": [
  {
   "cell_type": "markdown",
   "metadata": {},
   "source": [
    "# Taller: Operaciones CRUD\n",
    "\n",
    "## Objetivos\n",
    "1. Comprender cómo conectar una aplicación Java a una base de datos utilizando JDBC.\n",
    "2. Realizar operaciones CRUD (Crear, Leer, Actualizar, Eliminar) desde Java.\n",
    "3. Conocer las diferencias entre los métodos `executeUpdate()`, `execute()`, y `prepareStatement()`.\n",
    "\n",
    "## Requisitos Previos\n",
    "- Conocimiento básico de SQL.\n",
    "- Java SDK y MySQL (o cualquier gestor de bases de datos relacional).\n",
    "\n",
    "## 1. Introducción a JDBC\n",
    "\n",
    "### ¿Qué es JDBC?\n",
    "\n",
    "JDBC es una API que permite a las aplicaciones Java interactuar con bases de datos relacionales. A través de JDBC, podemos ejecutar consultas SQL directamente desde código Java para manipular datos almacenados en bases de datos.\n",
    "\n",
    "### Componentes Clave:\n",
    "- **DriverManager**: Gestiona la conexión a la base de datos.\n",
    "- **Connection**: Representa una conexión activa a la base de datos.\n",
    "- **Statement**: Se utiliza para ejecutar consultas SQL.\n",
    "- **ResultSet**: Almacena el resultado de una consulta SQL.\n",
    "- **PreparedStatement**: Una subclase de `Statement` que permite consultas precompiladas y más seguras.\n",
    "\n",
    "### Diferencias entre `executeUpdate()`, `execute()`, y `prepareStatement()`\n",
    "\n",
    "- **`executeUpdate()`**: Este método se utiliza para ejecutar consultas que modifican la base de datos, como `INSERT`, `UPDATE` o `DELETE`. Retorna un entero que indica el número de filas afectadas por la consulta.\n",
    "\n",
    "   ```java\n",
    "   int rowsAffected = statement.executeUpdate(\"UPDATE users SET age = 30 WHERE id = 1\");\n",
    "   ```\n",
    "\n",
    "- **`execute()`**: Este método se utiliza para ejecutar cualquier tipo de consulta SQL. Puede devolver diferentes tipos de resultados, dependiendo de la consulta (puede ser un `ResultSet` o un entero que indica cuántas filas fueron afectadas). Se usa cuando no sabes de antemano si tu consulta es una `SELECT` o una operación que modifica la base de datos.\n",
    "\n",
    "   ```java\n",
    "   boolean hasResultSet = statement.execute(\"SELECT * FROM users\");\n",
    "   ```\n",
    "\n",
    "   Retorna `true` si la consulta genera un `ResultSet`, o `false` si fue una operación como `INSERT`, `UPDATE` o `DELETE`.\n",
    "\n",
    "- **`prepareStatement()`**: Se utiliza para crear consultas SQL precompiladas y parametrizadas, que permiten mayor seguridad (evitando inyecciones SQL) y optimización. Las consultas precompiladas son más eficientes en consultas repetitivas.\n",
    "\n",
    "   ```java\n",
    "   PreparedStatement pstmt = connection.prepareStatement(\"\"\"INSERT INTO users (name, age) \n",
    "                                                            VALUES (?, ?)\"\"\");\n",
    "   pstmt.setString(1, \"Juan\");\n",
    "   pstmt.setInt(2, 25);\n",
    "   pstmt.executeUpdate();\n",
    "   ```\n"
   ]
  },
  {
   "cell_type": "markdown",
   "metadata": {},
   "source": [
    "(implementacion)=\n",
    "### Implementación en Java\n",
    "\n",
    "Para utilizar los comandos de `java.sql` es necesario incorporar la dependencia de Maven `com.mysql:mysql-connector-j`. Al ser un notebook esta dependencia se carga con la siguiente casilla, así que es obligatorio ejecutarla."
   ]
  },
  {
   "cell_type": "code",
   "execution_count": null,
   "metadata": {
    "vscode": {
     "languageId": "java"
    }
   },
   "outputs": [],
   "source": [
    "// Necesario para que el kernel de jupyter cargue la dependencia mysql\n",
    "%maven com.mysql:mysql-connector-j:9.1.0"
   ]
  },
  {
   "cell_type": "markdown",
   "metadata": {},
   "source": [
    "(DatabaseConnection)=\n",
    "#### Conexión"
   ]
  },
  {
   "cell_type": "code",
   "execution_count": null,
   "metadata": {
    "vscode": {
     "languageId": "java"
    }
   },
   "outputs": [],
   "source": [
    "import java.sql.Connection;\n",
    "import java.sql.DriverManager;\n",
    "import java.sql.SQLException;\n",
    "\n",
    "public class DatabaseConnection {\n",
    "    private static final String URL = \"jdbc:mysql://localhost:3306/Universidad\";\n",
    "    private static final String USER = \"dba\";            // puede ser root\n",
    "    private static final String PASSWORD = \"$123456789\"; //  contraseña del usuario\n",
    "\n",
    "    public static Connection getConnection() throws SQLException {\n",
    "        return DriverManager.getConnection(URL, USER, PASSWORD);\n",
    "    }\n",
    "\n",
    "}"
   ]
  },
  {
   "cell_type": "code",
   "execution_count": null,
   "metadata": {
    "vscode": {
     "languageId": "java"
    }
   },
   "outputs": [],
   "source": [
    "// Probando la conexión\n",
    "new DatabaseConnection().getConnection();"
   ]
  },
  {
   "cell_type": "markdown",
   "metadata": {},
   "source": [
    "#### Creación de la Tabla"
   ]
  },
  {
   "cell_type": "code",
   "execution_count": null,
   "metadata": {
    "vscode": {
     "languageId": "java"
    }
   },
   "outputs": [],
   "source": [
    "import java.sql.*;\n",
    "\n",
    "//Creación de la tabla\n",
    "public class Table {\n",
    "    public static void Create() {\n",
    "        String query = \"\"\"\n",
    "            CREATE TABLE IF NOT EXISTS usuarios (\n",
    "                id INT AUTO_INCREMENT PRIMARY KEY,\n",
    "                nombre VARCHAR(100) NOT NULL,\n",
    "                edad int NOT NULL,\n",
    "                fecha_nacimiento DATE NOT NULL\n",
    "            );\n",
    "            \"\"\";\n",
    "        try (Connection connection = DatabaseConnection.getConnection();\n",
    "             Statement stmt = connection.createStatement()) {\n",
    "          \n",
    "              // Usando el método executeUpdate\n",
    "              int result = stmt.executeUpdate(query);\n",
    "              System.out.println(\"executeUpdate: Se han afectado %d filas\".formatted(result));\n",
    "\n",
    "              // Usando el método execute\n",
    "              boolean result1 = stmt.execute(query);\n",
    "              System.out.println(\"execute: El resultado es de tipo resultSet %b\".formatted(result1));\n",
    "            \n",
    "        } catch (SQLException e) {\n",
    "            e.printStackTrace();\n",
    "        }\n",
    "    }\n",
    "\n",
    "    public static void Delete() {\n",
    "        String query = \"DROP TABLE IF EXISTS usuarios;\";\n",
    "        try (Connection connection = DatabaseConnection.getConnection();\n",
    "             Statement stmt = connection.createStatement()) {\n",
    "          \n",
    "                int result = stmt.executeUpdate(query);\n",
    "                System.out.println(\"executeUpdate: Se han afectado %d filas\".formatted(result));\n",
    "            \n",
    "        } catch (SQLException e) {\n",
    "            e.printStackTrace();\n",
    "        }\n",
    "    }\n",
    "\n",
    "    public static void main(String[] args) {\n",
    "        Delete();\n",
    "        Create();\n",
    "    }\n",
    "  }"
   ]
  },
  {
   "cell_type": "code",
   "execution_count": null,
   "metadata": {
    "vscode": {
     "languageId": "java"
    }
   },
   "outputs": [],
   "source": [
    "// ELiminando la tabla, si existe\n",
    "new Table().Delete();"
   ]
  },
  {
   "cell_type": "code",
   "execution_count": null,
   "metadata": {
    "vscode": {
     "languageId": "java"
    }
   },
   "outputs": [],
   "source": [
    "// Creando la tabla\n",
    "new Table().Create();"
   ]
  },
  {
   "cell_type": "markdown",
   "metadata": {},
   "source": [
    "#### Población de la Tabla"
   ]
  },
  {
   "cell_type": "code",
   "execution_count": null,
   "metadata": {
    "vscode": {
     "languageId": "java"
    }
   },
   "outputs": [],
   "source": [
    "//Poblar la tabla\n",
    "import java.sql.*;\n",
    "\n",
    "public class PoblateTable {\n",
    "\n",
    "  public static void Poblate(){\n",
    "    \n",
    "    String query = \"\"\"\n",
    "        INSERT INTO usuarios (nombre, edad, fecha_nacimiento) VALUES \n",
    "                            ('Jhon Wayne', 35, \"2000-12-18\"),\n",
    "                            ('Francisco Gomez', '28', \"1990-05-28\");\n",
    "        \"\"\";\n",
    "    try(Connection connection = DatabaseConnection.getConnection();\n",
    "        Statement stmt = connection.createStatement();) {\n",
    "          int result = stmt.executeUpdate(query);\n",
    "          System.out.printf(\"Se actualizaron %d registros.\".formatted(result));\n",
    "    } catch (Exception e) {\n",
    "      // TODO: handle exception\n",
    "    }\n",
    "  }\n",
    "\n",
    "  public static void main(String[] args) {\n",
    "    Poblate();\n",
    "  }\n",
    "}"
   ]
  },
  {
   "cell_type": "code",
   "execution_count": null,
   "metadata": {
    "vscode": {
     "languageId": "java"
    }
   },
   "outputs": [],
   "source": [
    "new PoblateTable().Poblate();"
   ]
  },
  {
   "cell_type": "markdown",
   "metadata": {},
   "source": [
    "## 2. Operaciones CRUD\n",
    "\n",
    "Para ejecutar los siguiente códigos deben primero agrega la clase [DatabaseConnection](DatabaseConnection)."
   ]
  },
  {
   "cell_type": "markdown",
   "metadata": {},
   "source": [
    "### a) Insertar Registros (`INSERT`)"
   ]
  },
  {
   "cell_type": "code",
   "execution_count": null,
   "metadata": {
    "vscode": {
     "languageId": "java"
    }
   },
   "outputs": [],
   "source": [
    "import java.sql.Connection;\n",
    "import java.sql.PreparedStatement;\n",
    "import java.sql.SQLException;\n",
    "\n",
    "public class InsertRecord {\n",
    "    public static void insertRecord(String name, int age, String fecha_nacimiento) {\n",
    "        String query = \"INSERT INTO usuarios (nombre, edad, fecha_nacimiento) VALUES (?, ?, ?)\";\n",
    "        try (Connection connection = DatabaseConnection.getConnection();\n",
    "             PreparedStatement preparedStatement = connection.prepareStatement(query)) {\n",
    "\n",
    "            preparedStatement.setString(1, name);\n",
    "            preparedStatement.setInt(2, age);\n",
    "            preparedStatement.setString(3, fecha_nacimiento);\n",
    "\n",
    "            int rowsInserted = preparedStatement.executeUpdate();\n",
    "            System.out.println(\"Registros insertados: \" + rowsInserted);\n",
    "        } catch (SQLException e) {\n",
    "            e.printStackTrace();\n",
    "        }\n",
    "    }\n",
    "\n",
    "    public static void main(String[] args) {\n",
    "        insertRecord(\"Juan\", 25, \"2021-10-05\");\n",
    "    }\n",
    "}"
   ]
  },
  {
   "cell_type": "code",
   "execution_count": null,
   "metadata": {
    "vscode": {
     "languageId": "java"
    }
   },
   "outputs": [],
   "source": [
    "new InsertRecord().insertRecord(\"Juan\", 25, \"2021-10-05\");"
   ]
  },
  {
   "cell_type": "markdown",
   "metadata": {},
   "source": [
    "### b) Consultar Registros (`SELECT`)"
   ]
  },
  {
   "cell_type": "code",
   "execution_count": null,
   "metadata": {
    "vscode": {
     "languageId": "java"
    }
   },
   "outputs": [],
   "source": [
    "import java.sql.Connection;\n",
    "import java.sql.PreparedStatement;\n",
    "import java.sql.ResultSet;\n",
    "import java.sql.SQLException;\n",
    "\n",
    "public class SelectRecords {\n",
    "    public static void selectAllRecords() {\n",
    "        String query = \"SELECT * FROM usuarios\";\n",
    "        try (Connection connection = DatabaseConnection.getConnection();\n",
    "             PreparedStatement preparedStatement = connection.prepareStatement(query)) {\n",
    "\n",
    "            ResultSet resultSet = preparedStatement.executeQuery();\n",
    "            \n",
    "            String resultado = \"%-7s%-20s%-10s%-22s%n\".formatted(\"ID\", \"Nombre\", \"Edad\", \"Fecha de Nacimiento\");\n",
    "            \n",
    "            while (resultSet.next()) {\n",
    "                int id = resultSet.getInt(\"id\");\n",
    "                String nombre = resultSet.getString(\"nombre\");\n",
    "                int edad = resultSet.getInt(\"edad\");\n",
    "                String fecha_nacimiento = resultSet.getString(\"fecha_nacimiento\");\n",
    "                resultado = resultado.concat(\"%-7d%-20s%-10d%-22s%n\".formatted(id, nombre, edad, fecha_nacimiento));\n",
    "            }\n",
    "            System.out.println(resultado);\n",
    "        } catch (SQLException e) {\n",
    "            e.printStackTrace();\n",
    "        }\n",
    "    }\n",
    "\n",
    "    public static void main(String[] args) {\n",
    "        selectAllRecords();\n",
    "    }\n",
    "}"
   ]
  },
  {
   "cell_type": "code",
   "execution_count": null,
   "metadata": {
    "vscode": {
     "languageId": "java"
    }
   },
   "outputs": [],
   "source": [
    "new SelectRecords().main(null);"
   ]
  },
  {
   "cell_type": "markdown",
   "metadata": {},
   "source": [
    "### c) Actualizar Registros (`UPDATE`)"
   ]
  },
  {
   "cell_type": "code",
   "execution_count": null,
   "metadata": {
    "vscode": {
     "languageId": "java"
    }
   },
   "outputs": [],
   "source": [
    "import java.sql.Connection;\n",
    "import java.sql.PreparedStatement;\n",
    "import java.sql.SQLException;\n",
    "\n",
    "public class UpdateRecord {\n",
    "    public static void updateRecord(int id, String newName, int newAge, String fecha_nacimiento) {\n",
    "        // El comando WHERE id=? filtra los elementos por id, si se quiere por\n",
    "        // otro campo es cambiar id por el de interés. No es necesario pasar todos los campos\n",
    "        String query = \"UPDATE usuarios SET nombre=?, edad=?, fecha_nacimiento=? WHERE id=?\";\n",
    "        try (Connection connection = DatabaseConnection.getConnection();\n",
    "             PreparedStatement preparedStatement = connection.prepareStatement(query)) {\n",
    "\n",
    "            preparedStatement.setString(1, newName);\n",
    "            preparedStatement.setInt(2, newAge);\n",
    "            preparedStatement.setString(3, fecha_nacimiento);\n",
    "            preparedStatement.setInt(4, id);\n",
    "\n",
    "            int rowsUpdated = preparedStatement.executeUpdate();\n",
    "            System.out.println(\"Registros actualizados: %d\".formatted(rowsUpdated));\n",
    "        } catch (SQLException e) {\n",
    "            e.printStackTrace();\n",
    "        }\n",
    "    }\n",
    "\n",
    "    public static void main(String[] args) {\n",
    "        updateRecord(1, \"Carlos\", 30, \"2001-02-24\");\n",
    "    }\n",
    "}"
   ]
  },
  {
   "cell_type": "code",
   "execution_count": null,
   "metadata": {
    "vscode": {
     "languageId": "java"
    }
   },
   "outputs": [],
   "source": [
    "new UpdateRecord().updateRecord(1, \"Se\", 30, \"2001-05-12\");\n",
    "new SelectRecords().main(null);"
   ]
  },
  {
   "cell_type": "markdown",
   "metadata": {},
   "source": [
    "### d) Eliminar Registros (`DELETE`)"
   ]
  },
  {
   "cell_type": "code",
   "execution_count": null,
   "metadata": {
    "vscode": {
     "languageId": "java"
    }
   },
   "outputs": [],
   "source": [
    "import java.sql.Connection;\n",
    "import java.sql.PreparedStatement;\n",
    "import java.sql.SQLException;\n",
    "\n",
    "public class DeleteRecord {\n",
    "    public static void deleteRecord(int id) {\n",
    "        String query = \"DELETE FROM usuarios WHERE id = ?\";\n",
    "        try (Connection connection = DatabaseConnection.getConnection();\n",
    "             PreparedStatement preparedStatement = connection.prepareStatement(query)) {\n",
    "\n",
    "            preparedStatement.setInt(1, id);\n",
    "\n",
    "            int rowsDeleted = preparedStatement.executeUpdate();\n",
    "            System.out.println(\"Registros eliminados: %d\".formatted(rowsDeleted));\n",
    "        } catch (SQLException e) {\n",
    "            e.printStackTrace();\n",
    "        }\n",
    "    }\n",
    "\n",
    "    public static void main(String[] args) {\n",
    "        deleteRecord(1);\n",
    "    }\n",
    "}"
   ]
  },
  {
   "cell_type": "code",
   "execution_count": null,
   "metadata": {
    "vscode": {
     "languageId": "java"
    }
   },
   "outputs": [],
   "source": [
    "new DeleteRecord().deleteRecord(1);"
   ]
  },
  {
   "cell_type": "markdown",
   "metadata": {},
   "source": [
    "## 3. Mejores Prácticas\n",
    "\n",
    "1. **Uso de `PreparedStatement`**: Siempre usa `PreparedStatement` en lugar de `Statement` para evitar inyecciones SQL, especialmente cuando trabajas con datos ingresados por el usuario.\n",
    "   \n",
    "2. **Cerrar Conexiones y Recursos**: Usa bloques `try-with-resources` para asegurarte de que los recursos como `Connection`, `PreparedStatement` y `ResultSet` se cierren automáticamente, incluso si ocurre una excepción.\n",
    "3. Colocar todos los métodos que interactúen con la base de datos en el mismo paquete o clase.\n",
    "\n",
    "\n",
    "## 4. Ejercicio Práctico: Base de Datos de Licores Colombianos\n",
    "\n",
    "### Objetivo:\n",
    "Crear una base de datos para almacenar información de licores colombianos y realizar operaciones CRUD utilizando JDBC desde una aplicación Java.\n",
    "\n",
    "### 1. Creación de la Base de Datos y Tablas en MySQL\n",
    "\n",
    "Primero, debes crear una base de datos llamada `licores_colombianos` con una tabla llamada `licores`. Cada licor debe tener un ID, nombre, tipo (ron, aguardiente, cerveza, etc.), grado de alcohol, y precio.\n",
    "\n",
    "(sql_taller)=\n",
    "#### SQL para la creación de la base de datos:\n",
    "\n",
    "```sql\n",
    "-- Crear la base de datos\n",
    "CREATE DATABASE licores_colombianos;\n",
    "\n",
    "-- Usar la base de datos creada\n",
    "USE licores_colombianos;\n",
    "\n",
    "-- Crear la tabla 'licores'\n",
    "CREATE TABLE licores (\n",
    "    id INT AUTO_INCREMENT PRIMARY KEY,\n",
    "    nombre VARCHAR(100) NOT NULL,\n",
    "    tipo VARCHAR(50) NOT NULL,\n",
    "    grado_alcohol FLOAT NOT NULL,\n",
    "    precio DECIMAL(10, 2) NOT NULL\n",
    ");\n",
    "```\n",
    "\n",
    "#### Explicación del SQL:\n",
    "- **Base de datos `licores_colombianos`**: Es la base de datos donde almacenaremos toda la información de los licores.\n",
    "- **Tabla `licores`**:\n",
    "  - `id`: Es el identificador único de cada licor, que se genera automáticamente con cada inserción.\n",
    "  - `nombre`: Almacena el nombre del licor (ejemplo: \"Aguardiente Antioqueño\").\n",
    "  - `tipo`: Almacena el tipo de licor (ejemplo: \"Aguardiente\", \"Ron\").\n",
    "  - `grado_alcohol`: Almacena el porcentaje de alcohol por volumen (ejemplo: 29.5%).\n",
    "  - `precio`: Almacena el precio del licor en la moneda local (COP).\n",
    "\n",
    "### 2. Conector y Creación de la Tabla\n",
    "\n",
    "Adaptar los códigos de la sección de [Implementación](implementacion) utilizando la tabla descrita y creada en la sección [SQL para la creación de la base de datos](sql_taller). La creación de la base de datos es el único comando que debe ejecutarse en Workbrench o terminal, de resto los demás comandos pueden ejecutarse desde java.\n",
    "\n",
    "### 3. Insertar Datos de Ejemplo\n",
    "\n",
    "Insertamos algunos datos iniciales en la tabla `licores` para comenzar a trabajar.\n",
    "\n",
    "```sql\n",
    "-- Insertar algunos registros en la tabla 'licores'\n",
    "INSERT INTO licores (nombre, tipo, grado_alcohol, precio) \n",
    "VALUES ('Aguardiente Antioqueño', 'Aguardiente', 29.5, 25000),\n",
    "       ('Ron Medellín', 'Ron', 37.5, 55000),\n",
    "       ('Club Colombia', 'Cerveza', 4.7, 3000),\n",
    "       ('Old Parr', 'Whisky', 40.0, 120000),\n",
    "       ('Tequila 1800', 'Tequila', 38.0, 75000);\n",
    "```"
   ]
  },
  {
   "cell_type": "markdown",
   "metadata": {},
   "source": [
    "### 4. Operaciones CRUD para un Licorería\n"
   ]
  },
  {
   "cell_type": "markdown",
   "metadata": {
    "vscode": {
     "languageId": "java"
    }
   },
   "source": [
    "#### Solución"
   ]
  },
  {
   "cell_type": "code",
   "execution_count": null,
   "metadata": {
    "tags": [
     "hide-cell"
    ],
    "vscode": {
     "languageId": "java"
    }
   },
   "outputs": [],
   "source": [
    "import java.sql.*;\n",
    "\n",
    "public class DatabaseConnection {\n",
    "    private static final String URL = \"jdbc:mysql://localhost:3306/licores_colombianos\";\n",
    "    private static final String USER = \"dba\"; // Cambia 'root' por tu usuario de MySQL\n",
    "    private static final String PASSWORD = \"$123456789\"; // Cambia 'yourpassword' por tu contraseña de MySQL\n",
    "\n",
    "    public static Connection getConnection() throws SQLException {\n",
    "        return DriverManager.getConnection(URL, USER, PASSWORD);\n",
    "    }\n",
    "}\n",
    "\n",
    "//Creación de la tabla\n",
    "public class Table {\n",
    "    public static void Create() {\n",
    "        String query = \"\"\"\n",
    "            CREATE TABLE IF NOT EXISTS licores (\n",
    "                id INT AUTO_INCREMENT PRIMARY KEY,\n",
    "                nombre VARCHAR(100) NOT NULL,\n",
    "                tipo VARCHAR(50) NOT NULL,\n",
    "                grado_alcohol FLOAT NOT NULL,\n",
    "                precio DECIMAL(10, 2) NOT NULL\n",
    "            );\n",
    "            \"\"\";\n",
    "        try (Connection connection = DatabaseConnection.getConnection();\n",
    "             Statement stmt = connection.createStatement()) {\n",
    "          \n",
    "              // Usando el método execute\n",
    "              boolean result = stmt.execute(query);\n",
    "              System.out.println(\"execute: El resultado es de tipo resultSet %b\".formatted(result));\n",
    "            \n",
    "        } catch (SQLException e) {\n",
    "            e.printStackTrace();\n",
    "        }\n",
    "    }\n",
    "\n",
    "    public static void Delete() {\n",
    "        String query = \"DROP TABLE IF EXISTS licores;\";\n",
    "        try (Connection connection = DatabaseConnection.getConnection();\n",
    "             Statement stmt = connection.createStatement()) {\n",
    "          \n",
    "                int result = stmt.executeUpdate(query);\n",
    "                System.out.println(\"executeUpdate: Se han afectado %d filas\".formatted(result));\n",
    "            \n",
    "        } catch (SQLException e) {\n",
    "            e.printStackTrace();\n",
    "        }\n",
    "    }\n",
    "\n",
    "    public static void Poblar(){\n",
    "    \n",
    "      String query = \"\"\"\n",
    "          INSERT INTO licores (nombre, tipo, grado_alcohol, precio) \n",
    "          VALUES ('Aguardiente Antioqueño', 'Aguardiente', 29.5, 25000),\n",
    "                ('Ron Medellín', 'Ron', 37.5, 55000),\n",
    "                ('Club Colombia', 'Cerveza', 4.7, 3000),\n",
    "                ('Old Parr', 'Whisky', 40.0, 120000),\n",
    "                ('Tequila 1800', 'Tequila', 38.0, 75000);\n",
    "          \"\"\";\n",
    "      try(Connection connection = DatabaseConnection.getConnection();\n",
    "          Statement stmt = connection.createStatement();) {\n",
    "            int result = stmt.executeUpdate(query);\n",
    "            System.out.println(\"%d rows where updated.\".formatted(result));\n",
    "      } catch (Exception e) {\n",
    "        // TODO: handle exception\n",
    "      }\n",
    "    }\n",
    "\n",
    "    public static void main(String[] args) {\n",
    "        Delete();\n",
    "        Create();\n",
    "        Poblar();\n",
    "    }\n",
    "  }\n",
    "\n",
    "new Table().main(null);"
   ]
  },
  {
   "cell_type": "code",
   "execution_count": null,
   "metadata": {
    "tags": [
     "hide-cell"
    ],
    "vscode": {
     "languageId": "java"
    }
   },
   "outputs": [],
   "source": [
    "import java.sql.Connection;\n",
    "import java.sql.PreparedStatement;\n",
    "import java.sql.SQLException;\n",
    "\n",
    "public class CRUD_Licores {\n",
    "    public static void Insertar(String nombre, String tipo, float gradoAlcohol, double precio) {\n",
    "        String query = \"INSERT INTO licores (nombre, tipo, grado_alcohol, precio) VALUES (?, ?, ?, ?)\";\n",
    "        try (Connection connection = DatabaseConnection.getConnection();\n",
    "             PreparedStatement preparedStatement = connection.prepareStatement(query)) {\n",
    "\n",
    "            preparedStatement.setString(1, nombre);\n",
    "            preparedStatement.setString(2, tipo);\n",
    "            preparedStatement.setFloat(3, gradoAlcohol);\n",
    "            preparedStatement.setDouble(4, precio);\n",
    "\n",
    "            int rowsInserted = preparedStatement.executeUpdate();\n",
    "            System.out.println(\"Licor insertado correctamente %d\".formatted(rowsInserted));\n",
    "        } catch (SQLException e) {\n",
    "            e.printStackTrace();\n",
    "        }\n",
    "    }\n",
    "\n",
    "    public static void Mostrar() {\n",
    "        String query = \"SELECT * FROM licores\";\n",
    "        try (Connection connection = DatabaseConnection.getConnection();\n",
    "             PreparedStatement preparedStatement = connection.prepareStatement(query)) {\n",
    "\n",
    "            ResultSet resultSet = preparedStatement.executeQuery();\n",
    "            \n",
    "            String resultado = \"%-7s%-20s%-10s%-22s-15s%n\".formatted(\"ID\", \"Nombre\", \"Tipo\", \"Grado de Alcohol\", \"Precio\");\n",
    "            while (resultSet.next()) {\n",
    "                int id = resultSet.getInt(\"id\");\n",
    "                String nombre = resultSet.getString(\"nombre\");\n",
    "                String tipo = resultSet.getString(\"tipo\");\n",
    "                float gradoAlcohol = resultSet.getFloat(\"grado_alcohol\");\n",
    "                double precio = resultSet.getDouble(\"precio\");\n",
    "\n",
    "                resultado = resultado.concat(\"%-7d%-20s%-10s%-22.2f-15f%n\".formatted(id, nombre, tipo, gradoAlcohol, precio));\n",
    "                                \n",
    "            }\n",
    "            System.out.println(resultado);\n",
    "        } catch (SQLException e) {\n",
    "            e.printStackTrace();\n",
    "        }\n",
    "    }\n",
    "\n",
    "    public static void Actualizar(int id, double nuevoPrecio) {\n",
    "        String query = \"UPDATE licores SET precio = ? WHERE id = ?\";\n",
    "        try (Connection connection = DatabaseConnection.getConnection();\n",
    "             PreparedStatement preparedStatement = connection.prepareStatement(query)) {\n",
    "\n",
    "            preparedStatement.setDouble(1, nuevoPrecio);\n",
    "            preparedStatement.setInt(2, id);\n",
    "\n",
    "            int rowsUpdated = preparedStatement.executeUpdate();\n",
    "            System.out.println(\"Licor con id %d actualizado correctamente\".formatted(rowsUpdated));\n",
    "        } catch (SQLException e) {\n",
    "            e.printStackTrace();\n",
    "        }\n",
    "    }\n",
    "\n",
    "    public static void Eliminar(int id) {\n",
    "        String query = \"DELETE FROM licores WHERE id = ?\";\n",
    "        try (Connection connection = DatabaseConnection.getConnection();\n",
    "             PreparedStatement preparedStatement = connection.prepareStatement(query)) {\n",
    "\n",
    "            preparedStatement.setInt(1, id);\n",
    "\n",
    "            int rowsDeleted = preparedStatement.executeUpdate();\n",
    "            System.out.println(\"Licor con id %d eliminado correctamente.\".formatted(rowsDeleted));\n",
    "        } catch (SQLException e) {\n",
    "            e.printStackTrace();\n",
    "        }\n",
    "    }\n",
    "\n",
    "    public static void main(String[] args) {\n",
    "        \n",
    "    }\n",
    "}"
   ]
  },
  {
   "cell_type": "markdown",
   "metadata": {},
   "source": [
    "#### a) Insertar un nuevo licor\n",
    "\n",
    "Este método permite agregar un nuevo licor a la tabla `licores`."
   ]
  },
  {
   "cell_type": "code",
   "execution_count": null,
   "metadata": {
    "tags": [
     "hide-cell"
    ],
    "vscode": {
     "languageId": "java"
    }
   },
   "outputs": [],
   "source": [
    "new CRUD_Licores().Insertar(\"Aguardiente Cristal\", \"Aguardiente\", 29.0f, 24000);"
   ]
  },
  {
   "cell_type": "markdown",
   "metadata": {},
   "source": [
    "#### b) Consultar los licores\n",
    "\n",
    "Este método consulta y muestra todos los licores almacenados en la base de datos."
   ]
  },
  {
   "cell_type": "code",
   "execution_count": null,
   "metadata": {
    "tags": [
     "hide-cell"
    ],
    "vscode": {
     "languageId": "java"
    }
   },
   "outputs": [],
   "source": [
    "new CRUD_Licores().Mostrar();"
   ]
  },
  {
   "cell_type": "markdown",
   "metadata": {},
   "source": [
    "#### c) Actualizar información de un licor\n",
    "\n",
    "El siguiente código actualiza el precio de un licor específico."
   ]
  },
  {
   "cell_type": "code",
   "execution_count": null,
   "metadata": {
    "tags": [
     "hide-cell"
    ],
    "vscode": {
     "languageId": "java"
    }
   },
   "outputs": [],
   "source": [
    "new CRUD_Licores().Actualizar(1, 26000);\n",
    "new CRUD_Licores().Mostrar();"
   ]
  },
  {
   "cell_type": "markdown",
   "metadata": {},
   "source": [
    "#### d) Eliminar un licor\n",
    "\n",
    "Este código elimina un registro de la tabla `licores` por su ID."
   ]
  },
  {
   "cell_type": "code",
   "execution_count": null,
   "metadata": {
    "tags": [
     "hide-cell"
    ],
    "vscode": {
     "languageId": "java"
    }
   },
   "outputs": [],
   "source": [
    "new CRUD_Licores().Eliminar(3);\n",
    "new CRUD_Licores().Mostrar();"
   ]
  },
  {
   "cell_type": "markdown",
   "metadata": {},
   "source": [
    "## Ejercicio\n",
    "\n",
    ":::{admonition} Taller\n",
    "Realizar todo el taller en un notebook de java o un proyecto para un tema de intereses: anime, peliculas, carros, motos, etc. La solución debe mostrar como se pueden realizar las operaciones de crear, leer, actualizar y eliminar, también conocidas como operaciones CRUD.\n",
    ":::"
   ]
  }
 ],
 "metadata": {
  "kernelspec": {
   "display_name": "Java",
   "language": "java",
   "name": "java"
  },
  "language_info": {
   "codemirror_mode": "java",
   "file_extension": ".jshell",
   "mimetype": "text/x-java-source",
   "name": "Java",
   "pygments_lexer": "java",
   "version": "23.0.1+11-39"
  }
 },
 "nbformat": 4,
 "nbformat_minor": 2
}
