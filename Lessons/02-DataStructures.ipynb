{
 "cells": [
  {
   "cell_type": "markdown",
   "metadata": {},
   "source": [
    "# Repaso Estructuras de Datos\n",
    "\n",
    "Las estructuras de datos básicas en Java son los bloques fundamentales para almacenar y manipular información. En esta clase introductoria, exploraremos las más comunes: `char`, `String`, `boolean`, `int`, `float`, `double` y `array`. Te proporcionaremos ejemplos prácticos con explicaciones detalladas del código.\n",
    "\n",
    "## char  \n",
    "El tipo de dato `char` almacena un único carácter. Los valores de `char` se escriben entre comillas simples (`'`)."
   ]
  },
  {
   "cell_type": "code",
   "execution_count": 1,
   "metadata": {
    "vscode": {
     "languageId": "java"
    }
   },
   "outputs": [],
   "source": [
    "public class EjemploChar {\n",
    "  public static void main(String[] args) {\n",
    "      char inicial = 'A'; // Asigna el carácter 'A' a la variable\n",
    "      char simbolo = '$'; // Otro ejemplo con un símbolo especial\n",
    "      char unicode = '\\u0041'; // Representación Unicode del carácter 'A'\n",
    "\n",
    "      System.out.println(\"Inicial: \" + inicial);\n",
    "      System.out.println(\"Símbolo: \" + simbolo);\n",
    "      System.out.println(\"Unicode: \" + unicode);\n",
    "  }\n",
    "}"
   ]
  },
  {
   "cell_type": "code",
   "execution_count": 7,
   "metadata": {
    "vscode": {
     "languageId": "java"
    }
   },
   "outputs": [
    {
     "name": "stdout",
     "output_type": "stream",
     "text": [
      "Inicial: A\n",
      "Símbolo: $\n",
      "Unicode: A\n"
     ]
    }
   ],
   "source": [
    "new EjemploChar().main(null);"
   ]
  },
  {
   "cell_type": "markdown",
   "metadata": {},
   "source": [
    "## String  \n",
    "El tipo `String` se utiliza para almacenar cadenas de texto. Se representan entre comillas dobles (`\"`)."
   ]
  },
  {
   "cell_type": "code",
   "execution_count": 2,
   "metadata": {
    "vscode": {
     "languageId": "java"
    }
   },
   "outputs": [],
   "source": [
    "public class EjemploString {\n",
    "  public static void main(String[] args) {\n",
    "      String saludo = \"Hola, Mundo!\";\n",
    "      String nombre = \"Juan\";\n",
    "      String concatenacion = saludo + \" Mi nombre es \" + nombre; // Concatenación de cadenas\n",
    "\n",
    "      System.out.println(saludo);\n",
    "      System.out.println(nombre);\n",
    "      System.out.println(concatenacion);\n",
    "  }\n",
    "}"
   ]
  },
  {
   "cell_type": "code",
   "execution_count": 8,
   "metadata": {
    "vscode": {
     "languageId": "java"
    }
   },
   "outputs": [
    {
     "name": "stdout",
     "output_type": "stream",
     "text": [
      "Hola, Mundo!\n",
      "Juan\n",
      "Hola, Mundo! Mi nombre es Juan\n"
     ]
    }
   ],
   "source": [
    "new EjemploString().main(null);"
   ]
  },
  {
   "cell_type": "markdown",
   "metadata": {},
   "source": [
    "## boolean  \n",
    "\n",
    "El tipo `boolean` solo puede tener dos valores: `true` o `false`. Es útil para condiciones y lógica."
   ]
  },
  {
   "cell_type": "code",
   "execution_count": 3,
   "metadata": {
    "vscode": {
     "languageId": "java"
    }
   },
   "outputs": [],
   "source": [
    "public class EjemploBoolean {\n",
    "  public static void main(String[] args) {\n",
    "      boolean esMayorDeEdad = true;\n",
    "      boolean estaLloviendo = false;\n",
    "\n",
    "      System.out.println(\"¿Es mayor de edad? \" + esMayorDeEdad);\n",
    "      System.out.println(\"¿Está lloviendo? \" + estaLloviendo);\n",
    "\n",
    "      // Uso en una condición\n",
    "      if (esMayorDeEdad) {\n",
    "          System.out.println(\"Puede votar.\");\n",
    "      } else {\n",
    "          System.out.println(\"No puede votar.\");\n",
    "      }\n",
    "  }\n",
    "}"
   ]
  },
  {
   "cell_type": "code",
   "execution_count": 9,
   "metadata": {
    "vscode": {
     "languageId": "java"
    }
   },
   "outputs": [
    {
     "name": "stdout",
     "output_type": "stream",
     "text": [
      "¿Es mayor de edad? true\n",
      "¿Está lloviendo? false\n",
      "Puede votar.\n"
     ]
    }
   ],
   "source": [
    "new EjemploBoolean().main(null);"
   ]
  },
  {
   "cell_type": "markdown",
   "metadata": {},
   "source": [
    "## int  \n",
    "El tipo `int` se utiliza para almacenar números enteros. Es el más común para trabajar con números."
   ]
  },
  {
   "cell_type": "code",
   "execution_count": 4,
   "metadata": {
    "vscode": {
     "languageId": "java"
    }
   },
   "outputs": [],
   "source": [
    "public class EjemploInt {\n",
    "  public static void main(String[] args) {\n",
    "      int edad = 25;\n",
    "      int suma = 10 + 15;\n",
    "      int producto = edad * 2;\n",
    "\n",
    "      System.out.println(\"Edad: \" + edad);\n",
    "      System.out.println(\"Suma: \" + suma);\n",
    "      System.out.println(\"Producto: \" + producto);\n",
    "  }\n",
    "}"
   ]
  },
  {
   "cell_type": "code",
   "execution_count": 10,
   "metadata": {
    "vscode": {
     "languageId": "java"
    }
   },
   "outputs": [
    {
     "name": "stdout",
     "output_type": "stream",
     "text": [
      "Edad: 25\n",
      "Suma: 25\n",
      "Producto: 50\n"
     ]
    }
   ],
   "source": [
    "new EjemploInt().main(null);"
   ]
  },
  {
   "cell_type": "markdown",
   "metadata": {},
   "source": [
    "## float y double  \n",
    "Los tipos `float` y `double` almacenan números decimales. La diferencia principal es la precisión: `float` tiene menos precisión que `double`."
   ]
  },
  {
   "cell_type": "code",
   "execution_count": 5,
   "metadata": {
    "vscode": {
     "languageId": "java"
    }
   },
   "outputs": [],
   "source": [
    "public class EjemploFloatDouble {\n",
    "  public static void main(String[] args) {\n",
    "      float precio = 19.99f; // Los valores float deben terminar con 'f'\n",
    "      double pi = 3.14159265359; // Valores de mayor precisión\n",
    "\n",
    "      System.out.println(\"Precio: \" + precio);\n",
    "      System.out.println(\"Valor de Pi: \" + pi);\n",
    "\n",
    "      // Operaciones aritméticas\n",
    "      double suma = precio + pi;\n",
    "      System.out.println(\"Suma: \" + suma);\n",
    "  }\n",
    "}"
   ]
  },
  {
   "cell_type": "code",
   "execution_count": 11,
   "metadata": {
    "vscode": {
     "languageId": "java"
    }
   },
   "outputs": [
    {
     "name": "stdout",
     "output_type": "stream",
     "text": [
      "Precio: 19.99\n",
      "Valor de Pi: 3.14159265359\n",
      "Suma: 23.131592424708163\n"
     ]
    }
   ],
   "source": [
    "new EjemploFloatDouble().main(null);"
   ]
  },
  {
   "cell_type": "markdown",
   "metadata": {},
   "source": [
    "## Array  \n",
    "Un `array` es una estructura que almacena múltiples valores del mismo tipo en una sola variable."
   ]
  },
  {
   "cell_type": "code",
   "execution_count": 6,
   "metadata": {
    "vscode": {
     "languageId": "java"
    }
   },
   "outputs": [],
   "source": [
    "public class EjemploArray {\n",
    "  public static void main(String[] args) {\n",
    "      int[] numeros = {10, 20, 30, 40, 50}; // Array de enteros\n",
    "\n",
    "      // Acceso a elementos\n",
    "      System.out.println(\"Primer elemento: \" + numeros[0]);\n",
    "      System.out.println(\"Segundo elemento: \" + numeros[1]);\n",
    "\n",
    "      // Iterar sobre el array\n",
    "      System.out.println(\"Todos los elementos:\");\n",
    "      for (int numero : numeros) {\n",
    "          System.out.println(numero);\n",
    "      }\n",
    "\n",
    "      // Modificar un elemento\n",
    "      numeros[2] = 99;\n",
    "      System.out.println(\"Elemento modificado: \" + numeros[2]);\n",
    "  }\n",
    "}"
   ]
  },
  {
   "cell_type": "code",
   "execution_count": 12,
   "metadata": {
    "vscode": {
     "languageId": "java"
    }
   },
   "outputs": [
    {
     "name": "stdout",
     "output_type": "stream",
     "text": [
      "Primer elemento: 10\n",
      "Segundo elemento: 20\n",
      "Todos los elementos:\n",
      "10\n",
      "20\n",
      "30\n",
      "40\n",
      "50\n",
      "Elemento modificado: 99\n"
     ]
    }
   ],
   "source": [
    "new EjemploArray().main(null);"
   ]
  },
  {
   "cell_type": "markdown",
   "metadata": {},
   "source": [
    "## Conclusión  \n",
    "Estas estructuras básicas (`char`, `String`, `boolean`, `int`, `float`, `double`, y `array`) son esenciales para trabajar con datos en Java. Familiarizarte con ellas te permitirá construir programas más complejos y manejar diferentes tipos de información.  \n",
    "\n",
    "Recuerda que puedes practicar combinándolas para resolver problemas. ¡Manos a la obra!  \n",
    "\n",
    "## Recursos Adicionales\n",
    "\n",
    "- [Programación II - 2024-2 - ETITC](https://uetitc.github.io/DataStructure-2024-2/README.html#tabla-de-contenido-toc)"
   ]
  }
 ],
 "metadata": {
  "kernelspec": {
   "display_name": "Java",
   "language": "java",
   "name": "java"
  },
  "language_info": {
   "codemirror_mode": "java",
   "file_extension": ".jshell",
   "mimetype": "text/x-java-source",
   "name": "Java",
   "pygments_lexer": "java",
   "version": "23.0.1+11-39"
  }
 },
 "nbformat": 4,
 "nbformat_minor": 2
}
